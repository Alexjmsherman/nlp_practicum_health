{
 "cells": [
  {
   "cell_type": "markdown",
   "metadata": {},
   "source": [
    "# Phrase (collocation) Detection Solution\n",
    "\n",
    "###### Author: Alex Sherman | alsherman@deloitte.com"
   ]
  },
  {
   "cell_type": "markdown",
   "metadata": {},
   "source": [
    "#### Agenda\n",
    "1. SpaCy POS phrases\n",
    "2. Gensim Phrases and Phraser"
   ]
  },
  {
   "cell_type": "code",
   "execution_count": 1,
   "metadata": {},
   "outputs": [],
   "source": [
    "import spacy\n",
    "import pandas as pd\n",
    "from sqlalchemy import create_engine\n",
    "from spacy.matcher import Matcher\n",
    "from spacy.matcher import PhraseMatcher\n",
    "from collections import defaultdict\n",
    "from spacy.lang.en.stop_words import STOP_WORDS\n",
    "from IPython.core.display import display, HTML\n",
    "from configparser import ConfigParser, ExtendedInterpolation\n",
    "\n",
    "pd.set_option('display.max_colwidth', 100)"
   ]
  },
  {
   "cell_type": "code",
   "execution_count": 2,
   "metadata": {},
   "outputs": [],
   "source": [
    "# configuration for data, acronyms, and gensim paths\n",
    "config = ConfigParser(interpolation=ExtendedInterpolation())\n",
    "config.read('../../config.ini')\n",
    "\n",
    "DB_PATH = config['DATABASES']['PROJECT_DB_PATH']\n",
    "MATCHED_TEXT_PATH = config['NLP']['MATCHED_TEXT_PATH']\n",
    "CLEANED_TEXT_PATH = config['NLP']['CLEANED_TEXT_PATH']\n",
    "GENSIM_DICTIONARY_PATH = config['NLP']['GENSIM_DICTIONARY_PATH']\n",
    "GENSIM_CORPUS_PATH = config['NLP']['GENSIM_CORPUS_PATH']"
   ]
  },
  {
   "cell_type": "markdown",
   "metadata": {},
   "source": [
    "#### Load data"
   ]
  },
  {
   "cell_type": "code",
   "execution_count": 3,
   "metadata": {},
   "outputs": [
    {
     "data": {
      "text/html": [
       "<div>\n",
       "<style scoped>\n",
       "    .dataframe tbody tr th:only-of-type {\n",
       "        vertical-align: middle;\n",
       "    }\n",
       "\n",
       "    .dataframe tbody tr th {\n",
       "        vertical-align: top;\n",
       "    }\n",
       "\n",
       "    .dataframe thead th {\n",
       "        text-align: right;\n",
       "    }\n",
       "</style>\n",
       "<table border=\"1\" class=\"dataframe\">\n",
       "  <thead>\n",
       "    <tr style=\"text-align: right;\">\n",
       "      <th></th>\n",
       "      <th>COUNT(*)</th>\n",
       "    </tr>\n",
       "  </thead>\n",
       "  <tbody>\n",
       "    <tr>\n",
       "      <th>0</th>\n",
       "      <td>500000</td>\n",
       "    </tr>\n",
       "  </tbody>\n",
       "</table>\n",
       "</div>"
      ],
      "text/plain": [
       "   COUNT(*)\n",
       "0    500000"
      ]
     },
     "execution_count": 3,
     "metadata": {},
     "output_type": "execute_result"
    }
   ],
   "source": [
    "# count # of documents\n",
    "engine = create_engine(DB_PATH)\n",
    "pd.read_sql(\"SELECT COUNT(*) FROM pubmed \", con=engine)"
   ]
  },
  {
   "cell_type": "code",
   "execution_count": 4,
   "metadata": {},
   "outputs": [
    {
     "data": {
      "text/html": [
       "<div>\n",
       "<style scoped>\n",
       "    .dataframe tbody tr th:only-of-type {\n",
       "        vertical-align: middle;\n",
       "    }\n",
       "\n",
       "    .dataframe tbody tr th {\n",
       "        vertical-align: top;\n",
       "    }\n",
       "\n",
       "    .dataframe thead th {\n",
       "        text-align: right;\n",
       "    }\n",
       "</style>\n",
       "<table border=\"1\" class=\"dataframe\">\n",
       "  <thead>\n",
       "    <tr style=\"text-align: right;\">\n",
       "      <th></th>\n",
       "      <th>index</th>\n",
       "      <th>text</th>\n",
       "    </tr>\n",
       "  </thead>\n",
       "  <tbody>\n",
       "    <tr>\n",
       "      <th>0</th>\n",
       "      <td>0</td>\n",
       "      <td>acid base diagrams</td>\n",
       "    </tr>\n",
       "    <tr>\n",
       "      <th>1</th>\n",
       "      <td>1</td>\n",
       "      <td>immunising against receptors for antigen</td>\n",
       "    </tr>\n",
       "    <tr>\n",
       "      <th>2</th>\n",
       "      <td>2</td>\n",
       "      <td>immune complexes in rheumatic disease</td>\n",
       "    </tr>\n",
       "    <tr>\n",
       "      <th>3</th>\n",
       "      <td>3</td>\n",
       "      <td>loss of hla antigens associated with hormonal state</td>\n",
       "    </tr>\n",
       "    <tr>\n",
       "      <th>4</th>\n",
       "      <td>4</td>\n",
       "      <td>hypocalcaemia after thyroidectomy</td>\n",
       "    </tr>\n",
       "  </tbody>\n",
       "</table>\n",
       "</div>"
      ],
      "text/plain": [
       "   index                                                 text\n",
       "0      0                                   acid base diagrams\n",
       "1      1             immunising against receptors for antigen\n",
       "2      2                immune complexes in rheumatic disease\n",
       "3      3  loss of hla antigens associated with hormonal state\n",
       "4      4                    hypocalcaemia after thyroidectomy"
      ]
     },
     "execution_count": 4,
     "metadata": {},
     "output_type": "execute_result"
    }
   ],
   "source": [
    "df = pd.read_sql(\"SELECT * FROM pubmed LIMIT 500000\", con=engine)\n",
    "\n",
    "# filter to relevant sections\n",
    "df.head()"
   ]
  },
  {
   "cell_type": "code",
   "execution_count": 5,
   "metadata": {},
   "outputs": [
    {
     "data": {
      "text/plain": [
       "500000"
      ]
     },
     "execution_count": 5,
     "metadata": {},
     "output_type": "execute_result"
    }
   ],
   "source": [
    "# store section matches in list\n",
    "text = [text for text in df['text']]\n",
    "\n",
    "# review first sentence of a section match\n",
    "len(text)"
   ]
  },
  {
   "cell_type": "markdown",
   "metadata": {},
   "source": [
    "### SpaCy - Preprocessing"
   ]
  },
  {
   "cell_type": "code",
   "execution_count": 6,
   "metadata": {},
   "outputs": [
    {
     "name": "stdout",
     "output_type": "stream",
     "text": [
      "Wall time: 2min\n"
     ]
    }
   ],
   "source": [
    "%%time\n",
    "\n",
    "# load spacy nlp model\n",
    "# use 'en' if you don't have the lg model\n",
    "nlp = spacy.load('en_core_web_lg')"
   ]
  },
  {
   "cell_type": "markdown",
   "metadata": {},
   "source": [
    "###### collect sentences using SpaCy matcher"
   ]
  },
  {
   "cell_type": "code",
   "execution_count": 7,
   "metadata": {},
   "outputs": [],
   "source": [
    "def collect_phrase_model_sents(matcher, doc, i, matches):\n",
    "    # identify matching spans (phrases)\n",
    "    match_id, start, end = matches[i]\n",
    "    # get sentence with matched term\n",
    "    sent = doc[start:end].sent.text\n",
    "    \n",
    "    # collect matching (cleaned) sents\n",
    "    matched_sents.append(sent)"
   ]
  },
  {
   "cell_type": "markdown",
   "metadata": {},
   "source": [
    "##### match sentences\n",
    "\n",
    "WARNING VERY SLOW!"
   ]
  },
  {
   "cell_type": "code",
   "execution_count": 7,
   "metadata": {},
   "outputs": [
    {
     "name": "stdout",
     "output_type": "stream",
     "text": [
      "Wall time: 43min 30s\n"
     ]
    }
   ],
   "source": [
    "%%time\n",
    "\n",
    "# remove false statement below to run code\n",
    "if 1 == 0:\n",
    "    # match sentences with the word disease or disorder\n",
    "    matched_sents = []\n",
    "    pattern = [[{'LOWER': 'disease'}], [{'LOWER': 'disorder'}]]\n",
    "\n",
    "    matcher = Matcher(nlp.vocab)\n",
    "\n",
    "    # use *patterns to add more than one pattern at once\n",
    "    matcher.add('disease_disorder', collect_phrase_model_sents, *pattern)\n",
    "\n",
    "    for doc in nlp.pipe(text, disable=['tagger','ner']):    \n",
    "        matcher(doc)"
   ]
  },
  {
   "cell_type": "code",
   "execution_count": 8,
   "metadata": {},
   "outputs": [
    {
     "ename": "NameError",
     "evalue": "name 'matched_sents' is not defined",
     "output_type": "error",
     "traceback": [
      "\u001b[1;31m---------------------------------------------------------------------------\u001b[0m",
      "\u001b[1;31mNameError\u001b[0m                                 Traceback (most recent call last)",
      "\u001b[1;32m<ipython-input-8-86d75238c348>\u001b[0m in \u001b[0;36m<module>\u001b[1;34m()\u001b[0m\n\u001b[1;32m----> 1\u001b[1;33m \u001b[0mprint\u001b[0m\u001b[1;33m(\u001b[0m\u001b[1;34m'Number of matches: {} \\n'\u001b[0m\u001b[1;33m.\u001b[0m\u001b[0mformat\u001b[0m\u001b[1;33m(\u001b[0m\u001b[0mlen\u001b[0m\u001b[1;33m(\u001b[0m\u001b[0mmatched_sents\u001b[0m\u001b[1;33m)\u001b[0m\u001b[1;33m)\u001b[0m\u001b[1;33m)\u001b[0m\u001b[1;33m\u001b[0m\u001b[0m\n\u001b[0m\u001b[0;32m      2\u001b[0m \u001b[1;33m\u001b[0m\u001b[0m\n\u001b[0;32m      3\u001b[0m \u001b[0mprint\u001b[0m\u001b[1;33m(\u001b[0m\u001b[1;34m'Example Match:'\u001b[0m\u001b[1;33m)\u001b[0m\u001b[1;33m\u001b[0m\u001b[0m\n\u001b[0;32m      4\u001b[0m \u001b[0mprint\u001b[0m\u001b[1;33m(\u001b[0m\u001b[0mmatched_sents\u001b[0m\u001b[1;33m[\u001b[0m\u001b[1;36m0\u001b[0m\u001b[1;33m]\u001b[0m\u001b[1;33m)\u001b[0m\u001b[1;33m\u001b[0m\u001b[0m\n",
      "\u001b[1;31mNameError\u001b[0m: name 'matched_sents' is not defined"
     ]
    }
   ],
   "source": [
    "print('Number of matches: {} \\n'.format(len(matched_sents)))\n",
    "\n",
    "print('Example Match:')\n",
    "print(matched_sents[0])"
   ]
  },
  {
   "cell_type": "markdown",
   "metadata": {},
   "source": [
    "##### Export matched text to avoid repeating processing"
   ]
  },
  {
   "cell_type": "code",
   "execution_count": 10,
   "metadata": {},
   "outputs": [
    {
     "data": {
      "text/plain": [
       "'C:\\\\Users\\\\alsherman\\\\Desktop\\\\NLP\\\\nlp_practicum_health_baseline\\\\raw_data/cleaned_text/matched_text.txt'"
      ]
     },
     "execution_count": 10,
     "metadata": {},
     "output_type": "execute_result"
    }
   ],
   "source": [
    "# view path to matched text\n",
    "MATCHED_TEXT_PATH"
   ]
  },
  {
   "cell_type": "code",
   "execution_count": null,
   "metadata": {},
   "outputs": [],
   "source": [
    "# uncomment below to write the matched text to a .txt file for later use \n",
    "\n",
    "#with open(MATCHED_TEXT_PATH, 'w') as f:\n",
    "#    for line in matched_sents:\n",
    "#        line += '\\n'\n",
    "#        line = line.encode('ascii', errors='ignore').decode('ascii') \n",
    "#        f.write(line)"
   ]
  },
  {
   "cell_type": "code",
   "execution_count": 10,
   "metadata": {},
   "outputs": [],
   "source": [
    "# read matched text\n",
    "with open(MATCHED_TEXT_PATH, 'r') as f:\n",
    "    matched_sents_full = [line.strip() for line in f.readlines()]"
   ]
  },
  {
   "cell_type": "code",
   "execution_count": 11,
   "metadata": {},
   "outputs": [
    {
     "data": {
      "text/html": [
       "<div>\n",
       "<style scoped>\n",
       "    .dataframe tbody tr th:only-of-type {\n",
       "        vertical-align: middle;\n",
       "    }\n",
       "\n",
       "    .dataframe tbody tr th {\n",
       "        vertical-align: top;\n",
       "    }\n",
       "\n",
       "    .dataframe thead th {\n",
       "        text-align: right;\n",
       "    }\n",
       "</style>\n",
       "<table border=\"1\" class=\"dataframe\">\n",
       "  <thead>\n",
       "    <tr style=\"text-align: right;\">\n",
       "      <th></th>\n",
       "      <th>sentences</th>\n",
       "    </tr>\n",
       "  </thead>\n",
       "  <tbody>\n",
       "    <tr>\n",
       "      <th>0</th>\n",
       "      <td>immune complexes in rheumatic disease</td>\n",
       "    </tr>\n",
       "    <tr>\n",
       "      <th>1</th>\n",
       "      <td>gluten and lymphocytes in coeliac disease</td>\n",
       "    </tr>\n",
       "    <tr>\n",
       "      <th>2</th>\n",
       "      <td>this activity correlated best with the severity and duration of the disease rather than with gam...</td>\n",
       "    </tr>\n",
       "    <tr>\n",
       "      <th>3</th>\n",
       "      <td>evidence exists that they control some of the peripheral manifestations of the disease including...</td>\n",
       "    </tr>\n",
       "    <tr>\n",
       "      <th>4</th>\n",
       "      <td>the finding of additional substitute cf antigens for the hrvl agent may have implications in the...</td>\n",
       "    </tr>\n",
       "  </tbody>\n",
       "</table>\n",
       "</div>"
      ],
      "text/plain": [
       "                                                                                             sentences\n",
       "0                                                                immune complexes in rheumatic disease\n",
       "1                                                            gluten and lymphocytes in coeliac disease\n",
       "2  this activity correlated best with the severity and duration of the disease rather than with gam...\n",
       "3  evidence exists that they control some of the peripheral manifestations of the disease including...\n",
       "4  the finding of additional substitute cf antigens for the hrvl agent may have implications in the..."
      ]
     },
     "execution_count": 11,
     "metadata": {},
     "output_type": "execute_result"
    }
   ],
   "source": [
    "# store all matched sentences in a dataframe\n",
    "matches_df = pd.DataFrame(matched_sents_full, columns=['sentences'])\n",
    "\n",
    "# remove duplicates\n",
    "matches_df = matches_df.drop_duplicates()\n",
    "\n",
    "# recreate matched_sents (since it takes so long to create on its own)\n",
    "matched_sents = [sent[0].split() for sent in matches_df.values]\n",
    "\n",
    "# view matches\n",
    "matches_df.head()"
   ]
  },
  {
   "cell_type": "markdown",
   "metadata": {},
   "source": [
    "### Use SpaCy part of speech (POS) to create phrases"
   ]
  },
  {
   "cell_type": "code",
   "execution_count": 12,
   "metadata": {
    "scrolled": true
   },
   "outputs": [
    {
     "data": {
      "text/plain": [
       "'this activity correlated best with the severity and duration of the disease rather than with gamma globulin or total protein concentrations'"
      ]
     },
     "execution_count": 12,
     "metadata": {},
     "output_type": "execute_result"
    }
   ],
   "source": [
    "# combine the matched sentence tokens and parse it with SpaCy\n",
    "text = ' '.join(matched_sents[2])\n",
    "text"
   ]
  },
  {
   "cell_type": "markdown",
   "metadata": {},
   "source": [
    "##### Determine which NLP components can be disabled"
   ]
  },
  {
   "cell_type": "code",
   "execution_count": 13,
   "metadata": {},
   "outputs": [],
   "source": [
    "def view_pos(doc, n_tokens=5):\n",
    "    \"\"\" print SpaCy POS information about each token in a provided document \"\"\"\n",
    "    print('{:15} | {:10} | {:10} | {:30}'.format('TOKEN','POS','DEP_','LEFTS'))\n",
    "    for token in doc[0:n_tokens]:\n",
    "        print('{:15} | {:10} | {:10} | {:30}'.format(\n",
    "            token.text, token.head.pos_,token.dep_, str([t.text for t in token.lefts])))"
   ]
  },
  {
   "cell_type": "code",
   "execution_count": 14,
   "metadata": {},
   "outputs": [
    {
     "name": "stdout",
     "output_type": "stream",
     "text": [
      "TOKEN           | POS        | DEP_       | LEFTS                         \n",
      "this            | NOUN       | det        | []                            \n",
      "activity        | VERB       | nsubj      | ['this']                      \n",
      "correlated      | VERB       | ROOT       | ['activity']                  \n",
      "best            | VERB       | advmod     | []                            \n",
      "with            | VERB       | prep       | []                            \n"
     ]
    }
   ],
   "source": [
    "# observe which part of speech (pos) attributes are disabled by named entity recognition (ner)\n",
    "pos_doc = nlp(text, disable=['ner'])\n",
    "view_pos(pos_doc)"
   ]
  },
  {
   "cell_type": "code",
   "execution_count": 15,
   "metadata": {},
   "outputs": [
    {
     "name": "stdout",
     "output_type": "stream",
     "text": [
      "TOKEN           | POS        | DEP_       | LEFTS                         \n",
      "this            | DET        |            | []                            \n",
      "activity        | NOUN       |            | []                            \n",
      "correlated      | VERB       |            | []                            \n",
      "best            | ADV        |            | []                            \n",
      "with            | ADP        |            | []                            \n"
     ]
    }
   ],
   "source": [
    "# observe which part of speech (pos) attributes are disabled by parser\n",
    "pos_doc = nlp(text, disable=['ner','parser'])\n",
    "view_pos(pos_doc)"
   ]
  },
  {
   "cell_type": "code",
   "execution_count": 16,
   "metadata": {},
   "outputs": [
    {
     "name": "stdout",
     "output_type": "stream",
     "text": [
      "TOKEN           | POS        | DEP_       | LEFTS                         \n",
      "this            |            | det        | []                            \n",
      "activity        |            | nsubj      | ['this']                      \n",
      "correlated      |            | ROOT       | ['activity']                  \n",
      "best            |            | advmod     | []                            \n",
      "with            |            | prep       | []                            \n"
     ]
    }
   ],
   "source": [
    "# observe which part of speech (pos) attributes are disabled by tagger\n",
    "pos_doc = nlp(text, disable=['ner','tagger'])\n",
    "view_pos(pos_doc, n_tokens=5)"
   ]
  },
  {
   "cell_type": "code",
   "execution_count": 17,
   "metadata": {},
   "outputs": [
    {
     "data": {
      "text/plain": [
       "'direct object'"
      ]
     },
     "execution_count": 17,
     "metadata": {},
     "output_type": "execute_result"
    }
   ],
   "source": [
    "# use explain to define any token.dep_ attributes\n",
    "spacy.explain('dobj')"
   ]
  },
  {
   "cell_type": "code",
   "execution_count": 18,
   "metadata": {},
   "outputs": [
    {
     "data": {
      "text/html": [
       "<iframe src=https://spacy.io/api/annotation#dependency-parsing width=1000 height=400></iframe>"
      ],
      "text/plain": [
       "<IPython.core.display.HTML object>"
      ]
     },
     "execution_count": 18,
     "metadata": {},
     "output_type": "execute_result"
    }
   ],
   "source": [
    "dependency_parsing_labels_url = 'https://spacy.io/api/annotation#dependency-parsing'\n",
    "iframe = '<iframe src={} width=1000 height=400></iframe>'.format(dependency_parsing_labels_url)\n",
    "HTML(iframe)"
   ]
  },
  {
   "cell_type": "markdown",
   "metadata": {},
   "source": [
    "##### Extract phrases by identifying tokens describing an object"
   ]
  },
  {
   "cell_type": "code",
   "execution_count": 19,
   "metadata": {},
   "outputs": [],
   "source": [
    "# add stop words to SpaCy\n",
    "# this enables the .is_stop attribute with common stop words\n",
    "from spacy.lang.en.stop_words import STOP_WORDS\n",
    "\n",
    "for word in STOP_WORDS:\n",
    "    lex = nlp.vocab[word]\n",
    "    lex.is_stop = True"
   ]
  },
  {
   "cell_type": "code",
   "execution_count": 20,
   "metadata": {},
   "outputs": [],
   "source": [
    "def create_pos_phrases(doc):\n",
    "\n",
    "    phrases = [] \n",
    "\n",
    "    doc = nlp(doc, disable=['ner','tagger'])\n",
    "    for token in doc:\n",
    "        # find any objects (e.g. direct objects )\n",
    "        if 'obj' in token.dep_:\n",
    "            token_text = token.lemma_.lower()\n",
    "            \n",
    "            # find any dependent terms to the left of (preceeding) the object\n",
    "            # ignore dependent terms that are not stop words\n",
    "            for left_term in (t.text for t in token.lefts if t.is_stop is False):\n",
    "                # combine the dependent term and object, separated by an underscore\n",
    "                # e.g. travel agency ==> travel_agency\n",
    "                phrase = '{}_{}'.format(left_term,token_text)\n",
    "                phrases.append(phrase)\n",
    "    \n",
    "    # convert list of distinct phrases into a sentence\n",
    "    return ' '.join(set(phrases))"
   ]
  },
  {
   "cell_type": "code",
   "execution_count": 21,
   "metadata": {},
   "outputs": [
    {
     "data": {
      "text/html": [
       "<div>\n",
       "<style scoped>\n",
       "    .dataframe tbody tr th:only-of-type {\n",
       "        vertical-align: middle;\n",
       "    }\n",
       "\n",
       "    .dataframe tbody tr th {\n",
       "        vertical-align: top;\n",
       "    }\n",
       "\n",
       "    .dataframe thead th {\n",
       "        text-align: right;\n",
       "    }\n",
       "</style>\n",
       "<table border=\"1\" class=\"dataframe\">\n",
       "  <thead>\n",
       "    <tr style=\"text-align: right;\">\n",
       "      <th></th>\n",
       "      <th>sentences</th>\n",
       "    </tr>\n",
       "  </thead>\n",
       "  <tbody>\n",
       "    <tr>\n",
       "      <th>0</th>\n",
       "      <td>immune complexes in rheumatic disease</td>\n",
       "    </tr>\n",
       "    <tr>\n",
       "      <th>1</th>\n",
       "      <td>gluten and lymphocytes in coeliac disease</td>\n",
       "    </tr>\n",
       "    <tr>\n",
       "      <th>2</th>\n",
       "      <td>this activity correlated best with the severity and duration of the disease rather than with gam...</td>\n",
       "    </tr>\n",
       "    <tr>\n",
       "      <th>3</th>\n",
       "      <td>evidence exists that they control some of the peripheral manifestations of the disease including...</td>\n",
       "    </tr>\n",
       "    <tr>\n",
       "      <th>4</th>\n",
       "      <td>the finding of additional substitute cf antigens for the hrvl agent may have implications in the...</td>\n",
       "    </tr>\n",
       "  </tbody>\n",
       "</table>\n",
       "</div>"
      ],
      "text/plain": [
       "                                                                                             sentences\n",
       "0                                                                immune complexes in rheumatic disease\n",
       "1                                                            gluten and lymphocytes in coeliac disease\n",
       "2  this activity correlated best with the severity and duration of the disease rather than with gam...\n",
       "3  evidence exists that they control some of the peripheral manifestations of the disease including...\n",
       "4  the finding of additional substitute cf antigens for the hrvl agent may have implications in the..."
      ]
     },
     "execution_count": 21,
     "metadata": {},
     "output_type": "execute_result"
    }
   ],
   "source": [
    "# review data\n",
    "matches_df.head()"
   ]
  },
  {
   "cell_type": "code",
   "execution_count": 22,
   "metadata": {},
   "outputs": [
    {
     "name": "stdout",
     "output_type": "stream",
     "text": [
      "rheumatic_disease\n",
      "coeliac_disease\n",
      "gamma_globulin\n",
      "cardiac_output peripheral_manifestation thyrotoxic_process palpitations_tachycardia underlying_process\n",
      "human_disease cf_antigen additional_antigen hrvl_agent\n",
      "Wall time: 465 ms\n"
     ]
    }
   ],
   "source": [
    "%%time\n",
    "\n",
    "for sent in matched_sents_full[0:5]:\n",
    "    print(create_pos_phrases(sent))"
   ]
  },
  {
   "cell_type": "code",
   "execution_count": 23,
   "metadata": {},
   "outputs": [
    {
     "name": "stdout",
     "output_type": "stream",
     "text": [
      "Wall time: 556 ms\n"
     ]
    },
    {
     "data": {
      "text/plain": [
       "0                                                                                      rheumatic_disease\n",
       "1                                                                                        coeliac_disease\n",
       "2                                                                                         gamma_globulin\n",
       "3    cardiac_output peripheral_manifestation thyrotoxic_process palpitations_tachycardia underlying_p...\n",
       "4                                                 human_disease cf_antigen additional_antigen hrvl_agent\n",
       "Name: sentences, dtype: object"
      ]
     },
     "execution_count": 23,
     "metadata": {},
     "output_type": "execute_result"
    }
   ],
   "source": [
    "%%time\n",
    "\n",
    "# apply the custom function to every element in the dataframe\n",
    "matches_df[0:5].sentences.apply(create_pos_phrases)"
   ]
  },
  {
   "cell_type": "markdown",
   "metadata": {},
   "source": [
    "##### Pandas Apply\n",
    "\n",
    "apply is an efficient and fast approach to 'apply' a function to every element in a row. applymap does the same to every element in the entire dataframe (e.g. convert all ints to floats)\n",
    "\n",
    "Example: https://chrisalbon.com/python/data_wrangling/pandas_apply_operations_to_dataframes/"
   ]
  },
  {
   "cell_type": "code",
   "execution_count": 24,
   "metadata": {},
   "outputs": [
    {
     "data": {
      "text/html": [
       "<div>\n",
       "<style scoped>\n",
       "    .dataframe tbody tr th:only-of-type {\n",
       "        vertical-align: middle;\n",
       "    }\n",
       "\n",
       "    .dataframe tbody tr th {\n",
       "        vertical-align: top;\n",
       "    }\n",
       "\n",
       "    .dataframe thead th {\n",
       "        text-align: right;\n",
       "    }\n",
       "</style>\n",
       "<table border=\"1\" class=\"dataframe\">\n",
       "  <thead>\n",
       "    <tr style=\"text-align: right;\">\n",
       "      <th></th>\n",
       "      <th>col1</th>\n",
       "      <th>col2</th>\n",
       "    </tr>\n",
       "  </thead>\n",
       "  <tbody>\n",
       "    <tr>\n",
       "      <th>0</th>\n",
       "      <td>0</td>\n",
       "      <td>3</td>\n",
       "    </tr>\n",
       "    <tr>\n",
       "      <th>1</th>\n",
       "      <td>1</td>\n",
       "      <td>4</td>\n",
       "    </tr>\n",
       "    <tr>\n",
       "      <th>2</th>\n",
       "      <td>2</td>\n",
       "      <td>5</td>\n",
       "    </tr>\n",
       "  </tbody>\n",
       "</table>\n",
       "</div>"
      ],
      "text/plain": [
       "   col1  col2\n",
       "0     0     3\n",
       "1     1     4\n",
       "2     2     5"
      ]
     },
     "execution_count": 24,
     "metadata": {},
     "output_type": "execute_result"
    }
   ],
   "source": [
    "# create a small dataframe with example data\n",
    "test_df = pd.DataFrame({'col1':range(0,3),'col2':range(3,6)})\n",
    "test_df"
   ]
  },
  {
   "cell_type": "code",
   "execution_count": 25,
   "metadata": {},
   "outputs": [
    {
     "data": {
      "text/plain": [
       "0    0.0\n",
       "1    1.0\n",
       "2    2.0\n",
       "Name: col1, dtype: float64"
      ]
     },
     "execution_count": 25,
     "metadata": {},
     "output_type": "execute_result"
    }
   ],
   "source": [
    "# apply a built-in function to each element in a column\n",
    "test_df['col1'].apply(float)"
   ]
  },
  {
   "cell_type": "code",
   "execution_count": 26,
   "metadata": {},
   "outputs": [
    {
     "data": {
      "text/plain": [
       "0    5\n",
       "1    6\n",
       "2    7\n",
       "Name: col1, dtype: int64"
      ]
     },
     "execution_count": 26,
     "metadata": {},
     "output_type": "execute_result"
    }
   ],
   "source": [
    "# apply a custom function to every element in a column\n",
    "def add_five(row):\n",
    "    return row + 5\n",
    "\n",
    "test_df['col1'].apply(add_five)"
   ]
  },
  {
   "cell_type": "code",
   "execution_count": 27,
   "metadata": {},
   "outputs": [
    {
     "data": {
      "text/plain": [
       "0    5\n",
       "1    6\n",
       "2    7\n",
       "Name: col1, dtype: int64"
      ]
     },
     "execution_count": 27,
     "metadata": {},
     "output_type": "execute_result"
    }
   ],
   "source": [
    "# apply an annonomous function to every element in a column\n",
    "test_df['col1'].apply(lambda x: x+5)"
   ]
  },
  {
   "cell_type": "code",
   "execution_count": 28,
   "metadata": {},
   "outputs": [
    {
     "data": {
      "text/html": [
       "<div>\n",
       "<style scoped>\n",
       "    .dataframe tbody tr th:only-of-type {\n",
       "        vertical-align: middle;\n",
       "    }\n",
       "\n",
       "    .dataframe tbody tr th {\n",
       "        vertical-align: top;\n",
       "    }\n",
       "\n",
       "    .dataframe thead th {\n",
       "        text-align: right;\n",
       "    }\n",
       "</style>\n",
       "<table border=\"1\" class=\"dataframe\">\n",
       "  <thead>\n",
       "    <tr style=\"text-align: right;\">\n",
       "      <th></th>\n",
       "      <th>col1</th>\n",
       "      <th>col2</th>\n",
       "    </tr>\n",
       "  </thead>\n",
       "  <tbody>\n",
       "    <tr>\n",
       "      <th>0</th>\n",
       "      <td>0.0</td>\n",
       "      <td>3.0</td>\n",
       "    </tr>\n",
       "    <tr>\n",
       "      <th>1</th>\n",
       "      <td>1.0</td>\n",
       "      <td>4.0</td>\n",
       "    </tr>\n",
       "    <tr>\n",
       "      <th>2</th>\n",
       "      <td>2.0</td>\n",
       "      <td>5.0</td>\n",
       "    </tr>\n",
       "  </tbody>\n",
       "</table>\n",
       "</div>"
      ],
      "text/plain": [
       "   col1  col2\n",
       "0   0.0   3.0\n",
       "1   1.0   4.0\n",
       "2   2.0   5.0"
      ]
     },
     "execution_count": 28,
     "metadata": {},
     "output_type": "execute_result"
    }
   ],
   "source": [
    "# apply a built-in function to every element in a dataframe \n",
    "test_df.applymap(float)  # applymap"
   ]
  },
  {
   "cell_type": "markdown",
   "metadata": {},
   "source": [
    "### Collocations\n",
    "\n",
    "\"A collocation is an expression consisting of two or more words that\n",
    "correspond to some conventional way of saying things. Or in the words\n",
    "of Firth (1957: 181): “Collocations of a given word are statements of the\n",
    "habitual or customary places of that word.” Collocations include noun\n",
    "phrases like strong tea and weapons of mass destruction, phrasal verbs like\n",
    "to make up, and other stock phrases like the rich and powerful. Particularly\n",
    "interesting are the subtle and not-easily-explainable patterns of word usage\n",
    "that native speakers all know: why we say a stiff breeze but not a stiff wind\n",
    "(while either a strong breeze or a strong wind is okay), or why we speak of\n",
    "broad daylight (but not bright daylight or narrow darkness)\n",
    "\n",
    "\n",
    "\n",
    "There are actually different definitions of the notion of collocation. Some\n",
    "authors in the computational and statistical literature define a collocation\n",
    "as two or more consecutive words with a special behavior, for example\n",
    "Choueka (1988):\n",
    "[A collocation is defined as] a sequence of two or more consecutive\n",
    "words, that has characteristics of a syntactic and semantic\n",
    "unit, and whose exact and unambiguous meaning or connotation\n",
    "cannot be derived directly from the meaning or connotation of its\n",
    "components. In most linguistically oriented research, a phrase\n",
    "can be a collocation even if it is not consecutive (as in the example knock\n",
    ". . . door). The following criteria are typical of linguistic treatments of collocations:\n",
    "\n",
    "**Non-compositionality**: The meaning of a collocation is not a straightforward\n",
    "composition of the meanings of its parts. Either the meaning\n",
    "is completely different from the free combination (as in the case of idioms\n",
    "like kick the bucket) or there is a connotation or added element of\n",
    "meaning that cannot be predicted from the parts. For example, white\n",
    "wine, white hair and white woman all refer to slightly different colors, so\n",
    "we can regard them as collocations. \n",
    "\n",
    "**Non-substitutability**: We cannot substitute near-synonyms for the\n",
    "components of a colloction. For example, we can’t say yellow wine\n",
    "instead of white wine even though yellow is as good a description of the\n",
    "color of white wine as white is (it is kind of a yellowish white).\n",
    "\n",
    "**Non-modifiability**: Many collocations cannot be freely modified with\n",
    "additional lexical material or through grammatical transformations.\n",
    "This is especially true for frozen expressions like idioms. For example,\n",
    "we can’t modify frog in to get a frog in one’s throat into to get an ugly\n",
    "frog in one’s throat although usually nouns like frog can be modified by\n",
    "adjectives like ugly. Similarly, going from singular to plural can make\n",
    "an idiom ill-formed, for example in people as poor as church mice.\"\n",
    "\n",
    "SOURCE: https://nlp.stanford.edu/fsnlp/promo/colloc.pdf"
   ]
  },
  {
   "cell_type": "markdown",
   "metadata": {},
   "source": [
    "### Exercise\n",
    "\n",
    "Create a function that returns a window of size n over a given sentence. \n",
    "\n",
    "For the sentence **'rather than pay the fee'** return the following if the window is n=3:\n",
    "- ['rather', 'than', 'pay'],\n",
    "- ['than','pay','the']\n",
    "- ['pay', 'the','fee']\n",
    "- ...\n"
   ]
  },
  {
   "cell_type": "code",
   "execution_count": 29,
   "metadata": {},
   "outputs": [
    {
     "name": "stdout",
     "output_type": "stream",
     "text": [
      "['immune', 'complexes', 'in', 'rheumatic', 'disease']\n"
     ]
    }
   ],
   "source": [
    "# example sentence\n",
    "sent = ' '.join(matches_df['sentences'][0:1]).split()\n",
    "print(sent)"
   ]
  },
  {
   "cell_type": "code",
   "execution_count": 30,
   "metadata": {},
   "outputs": [
    {
     "data": {
      "text/plain": [
       "[['immune', 'complexes', 'in'],\n",
       " ['complexes', 'in', 'rheumatic'],\n",
       " ['in', 'rheumatic', 'disease']]"
      ]
     },
     "execution_count": 30,
     "metadata": {},
     "output_type": "execute_result"
    }
   ],
   "source": [
    "def create_sentence_windows(sentence, n=3):\n",
    "    \"create a sliding window over the n terms in a list of terms\"\n",
    "        \n",
    "    # create a window on the first n terms by slicing the sentence into the first n terms\n",
    "    window = sentence[0:n]\n",
    "    \n",
    "    # create a list to store all windows\n",
    "    # add the first window that was created above\n",
    "    sentence_windows = [window]\n",
    "\n",
    "    # iterate through the rest of the terms of the sentence\n",
    "    # e.g. if n=3, then create a new window with terms 2 to 4\n",
    "    for term in sentence[n:]:\n",
    "        # remove the first terms of the window and add the next term from the sentence\n",
    "        window = window[1:] + [term]\n",
    "        # add the updated window to the master list\n",
    "        sentence_windows.append(window)\n",
    "\n",
    "    return sentence_windows\n",
    "\n",
    "# execute the function\n",
    "sentence_window = create_sentence_windows(sent, n=3)\n",
    "# view the first few results\n",
    "sentence_window[0:5]"
   ]
  },
  {
   "cell_type": "code",
   "execution_count": 31,
   "metadata": {},
   "outputs": [
    {
     "data": {
      "text/plain": [
       "[['immune', 'complexes', 'in'],\n",
       " ['complexes', 'in', 'rheumatic'],\n",
       " ['in', 'rheumatic', 'disease'],\n",
       " ['gluten', 'and', 'lymphocytes'],\n",
       " ['and', 'lymphocytes', 'in']]"
      ]
     },
     "execution_count": 31,
     "metadata": {},
     "output_type": "execute_result"
    }
   ],
   "source": [
    "# execute the function for all sentences\n",
    "\n",
    "# create a list to store all windows\n",
    "sentence_window = []\n",
    "\n",
    "for sent in matches_df['sentences']:\n",
    "    # convert the sentence string into a list of terms\n",
    "    sent = sent.split()\n",
    "    \n",
    "    # create the sentence windows and append to the sentence_windows list\n",
    "    windows = create_sentence_windows(sent, n=3)\n",
    "    \n",
    "    # add each window to the sentence_window list\n",
    "    # iterate through windows to make each item in sentence window a window, not a list of windows\n",
    "    for window in windows:\n",
    "        sentence_window.append(window)\n",
    "\n",
    "# view the first five results\n",
    "sentence_window[0:5]"
   ]
  },
  {
   "cell_type": "code",
   "execution_count": 32,
   "metadata": {},
   "outputs": [
    {
     "data": {
      "text/plain": [
       "[('disease_virus', 1118),\n",
       " ('heart_disease', 1044),\n",
       " ('hodgkin_disease', 673),\n",
       " ('mouth_disease', 662),\n",
       " ('marek_disease', 527),\n",
       " ('graves_disease', 497),\n",
       " ('liver_disease', 482),\n",
       " ('coronary_heart', 399),\n",
       " ('coronary_disease', 388),\n",
       " ('foot_mouth', 336),\n",
       " ('crohn_disease', 306),\n",
       " ('ischemic_heart', 274),\n",
       " ('paget_disease', 265),\n",
       " ('cushing_disease', 256),\n",
       " ('newcastle_disease', 253),\n",
       " ('chronic_disease', 247),\n",
       " ('malignant_disease', 239),\n",
       " ('author_transl', 211),\n",
       " ('respiratory_disease', 207),\n",
       " ('mouth_virus', 204)]"
      ]
     },
     "execution_count": 32,
     "metadata": {},
     "output_type": "execute_result"
    }
   ],
   "source": [
    "from itertools import combinations\n",
    "from collections import defaultdict\n",
    "\n",
    "# create a defaultdict to keep track of common phrases\n",
    "window_count = defaultdict(int)\n",
    "\n",
    "for sent in sentence_window:\n",
    "    # remove stop words\n",
    "    sentence = [term for term in sent if term not in STOP_WORDS]\n",
    "    \n",
    "    # create a combination of terms\n",
    "    # e.g. (rather, than, pay) --> (rather,than), (than,pay), (rather,pay)\n",
    "    for combo in combinations(sentence, 2):\n",
    "        # convert the tuple to a term\n",
    "        # e.g. (rather, than) --> 'rather_than'\n",
    "        phrase = '_'.join(combo)\n",
    "        \n",
    "        # increment the count for the term each time it appears to identify the most common terms\n",
    "        window_count[phrase] += 1\n",
    "\n",
    "# sort to view the most common terms\n",
    "# the key (lambda x: x[1]) sorts by the count\n",
    "sorted(window_count.items(), key=lambda x: x[1], reverse=True)[0:20]"
   ]
  },
  {
   "cell_type": "markdown",
   "metadata": {},
   "source": [
    "### Phrase (collocation) Detection\n",
    "\n",
    "Phrase modeling is another approach to learning combinations of tokens that together represent meaningful multi-word concepts. We can develop phrase models by looping over the the words in our reviews and looking for words that co-occur (i.e., appear one after another) together much more frequently than you would expect them to by random chance. The formula our phrase models will use to determine whether two tokens $A$ and $B$ constitute a phrase is:\n",
    "\n",
    "$$\\frac{count(A\\ B) - count_{min}}{count(A) * count(B)} > threshold$$\n",
    "\n",
    "- $count(A\\ B)$ is the number of times the tokens $A\\ B$ appear in the corpus in order\n",
    "- $count_{min}$ is a user-defined parameter to ensure that accepted phrases occur a minimum number of times\n",
    "- $count(A)$ is the number of times token $A$ appears in the corpus\n",
    "- $count(B)$ is the number of times token $B$ appears in the corpus\n",
    "- $threshold$ is a user-defined parameter to control how strong of a relationship between two tokens the model requires before accepting them as a phrase\n",
    "\n",
    "Once our phrase model has been trained on our corpus, we can apply it to new text. When our model encounters two tokens in new text that identifies as a phrase, it will merge the two into a single new token.\n",
    "\n",
    "Phrase modeling is superficially similar to named entity detection in that you would expect named entities to become phrases in the model (so new york would become new_york). But you would also expect multi-word expressions that represent common concepts, but aren't specifically named entities (such as happy hour) to also become phrases in the model.\n",
    "\n",
    "We turn to the indispensible gensim library to help us with phrase modeling — the Phrases class in particular.\n",
    "\n",
    "SOURCE: \n",
    "- https://github.com/skipgram/modern-nlp-in-python/blob/master/executable/Modern_NLP_in_Python.ipynb\n",
    "- https://papers.nips.cc/paper/5021-distributed-representations-of-words-and-phrases-and-their-compositionality.pdf"
   ]
  },
  {
   "cell_type": "markdown",
   "metadata": {},
   "source": [
    "##### Scikit-learn API for Gensim"
   ]
  },
  {
   "cell_type": "code",
   "execution_count": 33,
   "metadata": {},
   "outputs": [
    {
     "name": "stdout",
     "output_type": "stream",
     "text": [
      "[['immune', 'complexes', 'in', 'rheumatic', 'disease'], ['gluten', 'and', 'lymphocytes', 'in', 'coeliac', 'disease'], ['this', 'activity', 'correlated', 'best', 'with', 'the', 'severity', 'and', 'duration', 'of', 'the', 'disease', 'rather', 'than', 'with', 'gamma', 'globulin', 'or', 'total', 'protein', 'concentrations'], ['evidence', 'exists', 'that', 'they', 'control', 'some', 'of', 'the', 'peripheral', 'manifestations', 'of', 'the', 'disease', 'including', 'nervousness', 'palpitations', 'tachycardia', 'increased', 'cardiac', 'output', 'and', 'tremor', 'but', 'they', 'do', 'not', 'appear', 'to', 'affect', 'the', 'underlying', 'thyrotoxic', 'process', 'itself'], ['the', 'finding', 'of', 'additional', 'substitute', 'cf', 'antigens', 'for', 'the', 'hrvl', 'agent', 'may', 'have', 'implications', 'in', 'the', 'against', 'human', 'disease'], ['most', 'of', 'them', 'were', 'found', 'in', 'patients', 'with', 'digestive', 'tract', 'disease', 'essentially', 'colonic', 'cancer'], ['latency', 'in', 'herpesvirus', 'hominis', 'its', 'relationship', 'to', 'oncogenesis', 'and', 'recurrent', 'disease'], ['sixteen', 'of', 'patients', 'treated', 'with', 'intent', 'of', 'cure', 'are', 'considered', 'well', 'with', 'no', 'evidence', 'of', 'disease'], ['the', 'remaining', 'cases', 'were', 'considered', 'failures', 'all', 'died', 'except', 'one', 'living', 'with', 'disease'], ['six', 'of', 'twelve', 'cases', 'per', 'cent', 'survived', 'three', 'years', 'and', 'of', 'cases', 'per', 'cent', 'survived', 'for', 'one', 'year', 'free', 'of', 'disease']]\n"
     ]
    }
   ],
   "source": [
    "#sklearn_phrases.transform(matched_sents)\n",
    "print(matched_sents[0:10])"
   ]
  },
  {
   "cell_type": "code",
   "execution_count": 34,
   "metadata": {},
   "outputs": [
    {
     "name": "stderr",
     "output_type": "stream",
     "text": [
      "C:\\Users\\alsherman\\AppData\\Local\\Continuum\\anaconda3\\envs\\mlguild\\lib\\site-packages\\gensim\\utils.py:860: UserWarning: detected Windows; aliasing chunkize to chunkize_serial\n",
      "  warnings.warn(\"detected Windows; aliasing chunkize to chunkize_serial\")\n"
     ]
    },
    {
     "data": {
      "text/plain": [
       "PhrasesTransformer(delimiter=b'_', max_vocab_size=40000000, min_count=5,\n",
       "          progress_per=10000, scoring='default', threshold=5)"
      ]
     },
     "execution_count": 34,
     "metadata": {},
     "output_type": "execute_result"
    }
   ],
   "source": [
    "from gensim.sklearn_api.phrases import PhrasesTransformer\n",
    "\n",
    "sklearn_phrases = PhrasesTransformer(min_count=5, threshold=5)\n",
    "sklearn_phrases.fit(matched_sents)"
   ]
  },
  {
   "cell_type": "code",
   "execution_count": 35,
   "metadata": {},
   "outputs": [
    {
     "name": "stderr",
     "output_type": "stream",
     "text": [
      "C:\\Users\\alsherman\\AppData\\Local\\Continuum\\anaconda3\\envs\\mlguild\\lib\\site-packages\\gensim\\models\\phrases.py:486: UserWarning: For a faster implementation, use the gensim.models.phrases.Phraser class\n",
      "  warnings.warn(\"For a faster implementation, use the gensim.models.phrases.Phraser class\")\n"
     ]
    },
    {
     "name": "stdout",
     "output_type": "stream",
     "text": [
      "{'children_suffering', 'other_diseases', 'has_been', 'responded_to', 'with_increasing', 'after_treatment', 'able_to', 'diabetes_mellitus', 'in_conjunction', 'nephrotic_syndrome', 'turkey_poults', 'were_obtained', 'our_observations', 'parkinson_disease', 'criteria_for', 'antibody_titers', 'metabolic_disorder', 'various_forms', 'lymphoid_leukosis', 'responsiveness_to', 'was_confirmed', 'physical_activity', 'synovial_membrane', 'significantly_higher', 'to_establish', 'mitral_valve', 'health_service', 'la_tourette', 'thyroid_gland', 'immune_response', 'relative_risk', 'serum_alpha', 'to_assess', 'play_an', 'old_male', 'adult_form', 'alpha_chain', 'naturally_occurring', 'gel_electrophoresis', 'showed_significant', 'shown_to', 'chickens_infected', 'high_density', 'may_occur', 'autosomal_dominant', 'more_sensitive', 'been_established', 'red_cell', 'great_arteries', 'are_discussed', 'histological_findings', 'metastatic_disease', 'contrast_to', 'depending_on', 'more_severe', 'noted_in', 'paget_disease', 'be_due', 'igm_antibodies', 'in_vivo', 'basic_protein', 'autoimmune_thyroid', 'suffering_from', 'fact_that', 'hirschsprung_disease', 'are_presented', 'lipoprotein_abnormalities', 'duodenal_mucosa', 'age_groups', 'alpha_lipoprotein', 'to_diagnose', 'alcoholic_liver', 'more_than', 'probably_due', 'is_suggested', 'author_transl', 'indicated_that', 'adriamycin_bleomycin', 'natural_course', 'thyroidectomy_for', 'based_on', 'serological_studies', 'border_disease', 'matched_controls', 'viral_infections', 'by_means', 'as_part', 'is_proposed', 'skin_lesions', 'it_can', 'gaucher_disease', 'not_been', 'used_as', 'per_se', 'been_used', 'an_acute', 'benign_course', 'appeared_to', 'demonstrated_that', 'carried_out', 'regarded_as', 'bypass_surgery', 'early_stages', 'are_described', 'humoral_immune', 'when_compared', 'muscle_fibers', 'left_ventricular', 'difficult_to', 'diagnostic_criteria', 'virus_neutralization', 'other_than', 'coxsackie_viruses', 'respect_to', 'in_spite', 'be_effective', 'virus_mdv', 'per_cent', 'coagulation_disorder', 'graft_versus', 'four_patients', 'deaths_from', 'cannot_be', 'were_determined', 'prognostic_significance', 'high_incidence', 'any_significant', 'month_period', 'are_alive', 'successful_treatment', 'one_patient', 'swine_vesicular', 'pituitary_gland', 'diagnostic_procedures', 'was_undertaken', 'is_described', 'stage_renal', 'myelogenous_leukemia', 'is_probably', 'small_intestine', 'severe_combined', 'obstructive_airway', 'were_performed', 'significantly_different', 'motor_neurone', 'enzyme_activity', 'increased_risk', 'eight_patients', 'caudate_nucleus', 'prognostic_factors', 'along_with', 'are_still', 'does_not', 'pelizaeus_merzbacher', 'epstein_barr', 'resistant_to', 'were_examined', 'may_provide', 'and_wales', 'chick_embryo', 'one_hand', 'may_prove', 'drug_therapy', 'surgery_for', 'specific_pathogen', 'elevated_levels', 'false_negative', 'general_population', 'were_measured', 'obtained_from', 'triple_vessel', 'previously_described', 'may_prevent', 'epizootic_hemorrhagic', 'mdv_kekava', 'involved_in', 'are_considered', 'total_body', 'several_years', 'bhk_cells', 'acute_phase', 'mental_retardation', 'oat_cell', 'was_seen', 'not_significantly', 'autoimmune_thyroiditis', 'renal_bone', 'who_have', 'than_did', 'von_willebrand', 'inflammatory_bowel', 'antibiotic_therapy', 'shown_that', 'in_addition', 'experimentally_infected', 'or_absence', 'avian_leukosis', 'beta_lipoproteins', 'may_play', 'afp_levels', 'year_old', 'newcastle_disease', 'preliminary_results', 'wilson_disease', 'heredopathia_atactica', 'pathogenesis_of', 'determine_whether', 'tended_to', 'cytomegalic_inclusion', 'acute_myelogenous', 'radioreceptor_assay', 'by_electron', 'characterized_by', 'to_detect', 'platelet_aggregation', 'virus_infection', 'lipoprotein_lipase', 'were_used', 'account_for', 'blood_pressure', 'middle_aged', 'which_has', 'association_between', 'obtained_by', 'number_of', 'order_to', 'although_there', 'electron_microscope', 'to_recognize', 'factor_viii', 'huntington_disease', 'disease_fmd', 'three_vessel', 'alive_without', 'suggesting_that', 'an_additional', 'was_also', 'out_on', 'surface_antigen', 'to_investigate', 'it_has', 'likely_to', 'anti_foot', 'is_therefore', 'viral_hepatitis', 'disorder_transition', 'clinically_apparent', 'malignant_neoplasms', 'fixation_test', 'blood_donors', 'pre_existing', 'other_organs', 'gestational_trophoblastic', 'found_to', 'large_number', 'diagnostic_value', 'risk_factor', 'tested_for', 'beta_lipoprotein', 'lines_derived', 'hashimoto_thyroiditis', 'us_to', 'alveolar_bone', 'derived_from', 'correlation_could', 'dominantly_inherited', 'refsum_disease', 'may_also', 'was_carried', 'density_lipoprotein', 'itsenko_cushing', 'significant_difference', 'induced_by', 'bursal_disease', 'escherichia_coli', 'were_excluded', 'glycogen_storage', 'years_after', 'is_considered', 'cranial_nerve', 'five_cases', 'cushing_syndrome', 'cytomegalovirus_infection', 'as_an', 'an_attempt', 'left_ventricle', 'much_more', 'pelvic_inflammatory', 'lipoprotein_hdl', 'herpetic_eye', 'cholesterol_levels', 'wild_type', 'legionnaires_disease', 'virus_strains', 'almost_all', 'trophoblastic_disease', 'rheumatoid_arthritis', 'lichen_planus', 'beneficial_effect', 'aortic_valve', 'remission_rate', 'neutralizing_antibodies', 'wilms_tumor', 'thyroid_stimulating', 'healthy_subjects', 'graft_vs', 'who_underwent', 'charcot_marie', 'seven_cases', 'cushing_disease', 'knowledge_about', 'depends_on', 'viral_infection', 'non_specific', 'at_least', 'acid_base', 'disease_states', 'better_understanding', 'risk_for', 'six_patients', 'with_regard', 'correlation_was', 'diverticular_disease', 'cell_carcinoma', 'to_produce', 'was_present', 'relation_between', 'pancreatic_function', 'it_appears', 'subacute_thyroiditis', 'beta_microglobulin', 'lymphoblastic_leukemia', 'response_rate', 'consecutive_patients', 'case_report', 'may_contribute', 'is_reported', 'days_after', 'weeks_after', 'differential_diagnosis', 'antithyroid_drug', 'an_increased', 'bursal_agent', 'well_known', 'one_half', 'maternal_antibody', 'ceroid_lipofuscinosis', 'calcium_pyrophosphate', 'alone_or', 'cytomegalovirus_cmv', 'indications_for', 'clinical_symptoms', 'findings_support', 'failed_to', 'produced_by', 'susceptible_to', 'manifested_by', 'accompanied_by', 'ace_activity', 'day_old', 'serum_bile', 'be_considered', 'changes_in', 'at_risk', 'st_depression', 'into_consideration', 'were_noted', 'serum_cholesterol', 'released_from', 'these_studies', 'fibroblasts_from', 'stem_cell', 'these_results', 'antithrombin_iii', 'celiac_disease', 'accounted_for', 'there_is', 'the_majority', 'responses_to', 'reported_cases', 'techniques_for', 'mortality_from', 'normal_subjects', 'venereal_disease', 'removed_from', 'relating_to', 'upper_respiratory', 'in_whom', 'evidence_for', 'protection_against', 'artery_disease', 'serum_lipoproteins', 'did_not', 'normal_controls', 'is_discussed', 'most_important', 'been_proposed', 'were_recorded', 'mg_dl', 'in_relation', 'three_patients', 'show_that', 'degenerative_joint', 'statistically_significant', 'chronic_renal', 'collected_from', 'all_stages', 'patients_suffering', 'clinical_manifestation', 'resulted_in', 'control_group', 'those_who', 'be_associated', 'serum_proteins', 'results_suggest', 'antibody_response', 'is_stressed', 'plasma_cortisol', 'drawn_to', 'confirmed_by', 'heavy_chain', 'marker_for', 'aged_years', 'healthy_control', 'fluorescent_antibody', 'isolated_from', 'performed_on', 'lower_respiratory', 'need_for', 'in_vitro', 'high_titers', 'to_develop', 'stomatitis_virus', 'most_likely', 'attempt_to', 'were_inoculated', 'these_observations', 'inherited_disorder', 'cellular_immunity', 'findings_suggest', 'tumor_associated', 'metabolic_defect', 'more_frequently', 'addison_disease', 'tool_for', 'clinical_features', 'kidney_cells', 'the_authors', 'to_maintain', 'lupus_erythematosus', 'to_inhibit', 'graves_disease', 'prepared_from', 'it_would', 'were_able', 'may_result', 'early_detection', 'an_inherited', 'ventricular_septal', 'determination_of', 'only_one', 'were_observed', 'marek_disease', 'was_studied', 'surgical_resection', 'progressive_aleutian', 'was_characterized', 'gm_gangliosidosis', 'connective_tissue', 'vaccinated_against', 'virus_ebv', 'nine_patients', 'clinical_course', 'compared_to', 'sex_matched', 'is_rare', 'findings_are', 'biliary_cirrhosis', 'non_hodgkin', 'infectious_bronchitis', 'without_any', 'after_infection', 'believe_that', 'auto_immune', 'prevalence_of', 'the_same', 'pre_beta', 'was_shown', 'healthy_controls', 'development_of', 'chronic_liver', 'acth_concentrations', 'virus_neutralizing', 'control_subjects', 'ejection_fraction', 'suggests_that', 'cross_reactions', 'adenosine_monophosphate', 'all_patients', 'must_be', 'varicella_zoster', 'biliary_tract', 'altered_by', 'significant_reduction', 'was_observed', 'lysosomal_storage', 'data_obtained', 'parathyroid_hormone', 'invasive_carcinoma', 'one_year', 'there_was', 'cell_cultures', 'identified_as', 'against_marek', 'attention_is', 'vaccinal_immunity', 'cat_scratch', 'hodgkin_lymphoma', 'clinical_evidence', 'significant_differences', 'studies_have', 'seem_to', 'differences_between', 'incubation_period', 'first_degree', 'serum_calcium', 'was_used', 'nuclear_antigen', 'factors_for', 'no_signs', 'infantile_form', 'admitted_to', 'new_zealand', 'primary_biliary', 'rosette_forming', 'lipoprotein_deficiency', 'comparative_study', 'an_analysis', 'ng_ml', 'more_effective', 'peptic_ulcer', 'three_cases', 'radial_immunodiffusion', 'the_remaining', 'ventricular_extrasystoles', 'an_overall', 'immunological_studies', 'at_present', 'who_died', 'whipple_disease', 'an_effective', 'remain_alive', 'are_not', 'results_indicate', 'spleen_cells', 'after_surgery', 'chick_embryos', 'this_report', 'we_report', 'report_on', 'was_found', 'designed_to', 'herpesvirus_mdhv', 'short_stature', 'equal_to', 'bone_marrow', 'differentiated_from', 'effect_on', 'interferon_induction', 'bile_acid', 'further_studies', 'those_found', 'patients_with', 'test_for', 'year_period', 'followed_up', 'optic_nerve', 'and_mouth', 'alpha_fetoprotein', 'dermatitis_herpetiformis', 'led_to', 'skeletal_muscle', 'gren_syndrome', 'immunosorbent_assay', 'to_measure', 'erythrocyte_membranes', 'metabolic_bone', 'human_thyroid', 'growth_hormone', 'not_previously', 'transcobalamin_ii', 'migration_inhibition', 'recent_developments', 'provide_an', 'virus_fmdv', 'prenatal_diagnosis', 'predispose_to', 'pulmonary_vascular', 'cea_levels', 'angiotensin_converting', 'first_year', 'basement_membrane', 'hla_bw', 'no_detectable', 'measles_virus', 'are_briefly', 'antibody_titres', 'amount_of', 'be_useful', 'acth_levels', 'cystic_fibrosis', 'breast_carcinoma', 'basis_for', 'these_findings', 'an_initial', 'various_types', 'rare_disorder', 'are_reviewed', 'antibodies_against', 'have_shown', 'inclusion_bodies', 'at_rest', 'gamma_globulin', 'giant_axonal', 'its_relationship', 'motor_neuron', 'into_two', 'due_to', 'hypertensive_disease', 'vascular_disease', 'digestive_tract', 'ulcerative_colitis', 'extra_intestinal', 'bovine_viral', 'in_order', 'staging_laparotomy', 'they_had', 'creutzfeldt_jakob', 'patient_with', 'medical_treatment', 'false_positive', 'twenty_four', 'as_compared', 'side_effects', 'ldl_cholesterol', 'cyclic_amp', 'hong_kong', 'short_term', 'information_on', 'health_care', 'as_well', 'believed_to', 'contribute_to', 'coronary_arteriography', 'body_potassium', 'blood_flow', 'sinus_node', 'serum_samples', 'important_factor', 'sex_age', 'significantly_less', 'virus_adv', 'center_for', 'except_for', 'from_ischaemic', 'extramammary_paget', 'myeloid_leukaemia', 'lymphoid_cells', 'hepatitis_virus', 'cyclic_adenosine', 'non_neoplastic', 'positive_correlation', 'treated_with', 'foot_and', 'it_seems', 'explained_by', 'measured_by', 'less_than', 'guinea_pigs', 'tailed_deer', 'fine_structure', 'age_matched', 'rather_than', 'this_article', 'vesicular_stomatitis', 'refractory_to', 'most_effective', 'were_detected', 'total_cholesterol', 'polycystic_kidney', 'immunity_to', 'converting_enzyme', 'seems_to', 'an_example', 'sudden_death', 'emphasis_on', 'these_viruses', 'pig_kidney', 'type_iii', 'is_useful', 'acute_myeloid', 'response_to', 'whole_blood', 'negative_correlation', 'into_account', 'not_correlate', 'associated_antigens', 'but_it', 'the_presence', 'appears_to', 'who_received', 'patients_whose', 'patients_undergoing', 'long_term', 'affective_disorder', 'had_no', 'is_still', 'nmol_min', 'divided_into', 'than_those', 'concentrations_were', 'acute_leukaemia', 'left_main', 'unlikely_to', 'report_case', 'significantly_greater', 'no_difference', 'immediately_after', 'was_evaluated', 'neutralizing_antibody', 'well_documented', 'mouth_disease', 'infectious_bursal', 'causative_agent', 'or_equal', 'beta_msh', 'lipid_storage', 'autosomal_recessive', 'duodenal_ulcer', 'oral_hygiene', 'early_diagnosis', 'with_special', 'had_higher', 'unknown_etiology', 'very_high', 'adrenal_hyperplasia', 'responsible_for', 'no_correlation', 'exposure_to', 'american_kestrel', 'peripheral_arterial', 'was_given', 'infectious_mononucleosis', 'association_with', 'normal_individuals', 'been_treated', 'regard_to', 'symposium_on', 'high_proportion', 'life_threatening', 'hbv_infection', 'can_occur', 'do_not', 'to_differentiate', 'lymph_nodes', 'winter_vomiting', 'rheumatic_fever', 'lymphocytic_leukemia', 'sera_from', 'guinea_pig', 'were_evaluated', 'some_cases', 'contributing_to', 'an_inverse', 'health_education', 'united_states', 'even_when', 'revealed_no', 'md_virus', 'determine_if', 'comparison_between', 'most_cases', 'urinary_tract', 'small_cell', 'advanced_stages', 'blood_viscosity', 'high_levels', 'more_common', 'serve_as', 'myelocytic_leukemia', 'sural_nerve', 'function_tests', 'broad_beta', 'neurological_manifestations', 'hydatid_disease', 'infected_chickens', 'pregnant_women', 'was_demonstrated', 'studies_on', 'attributable_to', 'an_association', 'tumor_cells', 'appearance_of', 'relation_to', 'attributed_to', 'be_related', 'together_with', 'end_stage', 'follow_up', 'all_three', 'diagnosed_by', 'tay_sachs', 'von_recklinghausen', 'beta_adrenergic', 'clinical_presentation', 'its_cause', 'density_lipoproteins', 'suffered_from', 'initial_stage', 'heart_failure', 'been_reported', 'cardiac_rhythm', 'be_established', 'benign_prostatic', 'seen_in', 'been_measured', 'indicates_that', 'sexually_transmitted', 'was_examined', 'chronic_lymphocytic', 'leigh_disease', 'we_studied', 'important_role', 'ranging_from', 'adult_coeliac', 'small_bowel', 'contact_with', 'congenital_heart', 'complicated_by', 'tangier_disease', 'child_with', 'search_for', 'to_date', 'may_represent', 'fabry_disease', 'which_may', 'congenital_adrenal', 'was_investigated', 'public_health', 'normal_range', 'further_evidence', 'was_made', 'rapidly_progressive', 'indirect_complement', 'be_valuable', 'coronary_artery', 'interpreted_as', 'advanced_pulmonary', 'peripheral_nerves', 'four_years', 'compatible_with', 'nasopharyngeal_carcinoma', 'stone_disease', 'an_immunological', 'assessed_by', 'electrophoretic_mobility', 'was_no', 'leukocytes_from', 'acute_myocardial', 'hand_foot', 'bowen_disease', 'venous_thrombosis', 'up_period', 'survival_rate', 'belonging_to', 'bronchogenic_carcinoma', 'significantly_increased', 'normal_donors', 'year_survival', 'course_of', 'untreated_coeliac', 'liver_biopsy', 'vaccination_against', 'increased_frequency', 'age_group', 'is_characterized', 'vaccine_against', 'was_measured', 'molecular_weight', 'remained_free', 'kekava_strain', 'susceptibility_to', 'also_be', 'necessary_for', 'type_iv', 'poor_prognosis', 'was_diagnosed', 'darier_disease', 'our_knowledge', 'different_stages', 'associated_with', 'stage_ii', 'intravascular_coagulation', 'at_autopsy', 'be_used', 'animal_model', 'herpes_simplex', 'could_be', 'acth_secretion', 'to_determine', 'electron_spin', 'seven_patients', 'resistance_to', 'this_study', 'later_stages', 'group_ii', 'model_for', 'virus_ndv', 'perthes_disease', 'atherosclerotic_heart', 'are_reported', 'examined_for', 'differences_in', 'adrenal_cortex', 'five_years', 'five_months', 'systemic_lupus', 'median_survival', 'were_identified', 'alkaline_phosphatase', 'prior_to', 'is_presented', 'genetically_determined', 'islet_cell', 'autopsy_case', 'prostatic_carcinoma', 'plasma_cyclic', 'cortisol_levels', 'with_ulcerative', 'an_infant', 'be_explained', 'as_result', 'autoimmune_hemolytic', 'been_shown', 'that_they', 'von_gierke', 'non_malignant', 'cell_lines', 'whether_there', 'smooth_muscle', 'observations_on', 'inoculated_into', 'phytanic_acid', 'cell_surface', 'gamma_heavy', 'local_recurrence', 'thought_to', 'chronic_granulomatous', 'hepatocellular_carcinoma', 'were_carried', 'lead_to', 'there_are', 'hodgkin_lymphomas', 'previously_been', 'alpha_pag', 'persistent_infection', 'lecithin_cholesterol', 'an_autosomal', 'proved_to', 'skin_tests', 'at_different', 'was_determined', 'also_detected', 'who_were', 'which_are', 'not_always', 'compared_with', 'heart_disease', 'three_weeks', 'antibody_responses', 'concept_that', 'who_had', 'was_significantly', 'by_direct', 'this_technique', 'each_other', 'ultrastructural_study', 'play_role', 'mixed_connective', 'ischemic_heart', 'polycystic_ovarian', 'against_foot', 'mtc_pyrophosphate', 'inflammatory_periodontal', 'motor_unit', 'enzymic_activity', 'hypothesis_that', 'cardiovascular_disease', 'secondary_to', 'acid_phosphatase', 'two_cases', 'total_serum', 'at_weeks', 'carotid_artery', 'chronic_pulmonary', 'results_obtained', 'with_advanced', 'correlation_between', 'has_become', 'if_there', 'reference_to', 'congenital_cytomegalic', 'highly_significant', 'ascorbic_acid', 'hdl_cholesterol', 'correlated_well', 'lung_cancer', 'more_accurate', 'influenza_viruses', 'have_been', 'serum_concentrations', 'resulting_from', 'dependent_on', 'la_sota', 'leukemia_virus', 'twenty_seven', 'whom_had', 'unresponsive_to', 'differ_from', 'computed_tomography', 'van_buchem', 'adenylate_cyclase', 'experimental_allergic', 'previously_reported', 'without_evidence', 'were_isolated', 'possible_mechanisms', 'contribution_to', 'past_years', 'sj_gren', 'according_to', 'lymphocytes_from', 'synovial_fluid', 'showed_that', 'obstructive_pulmonary', 'line_msb', 'program_for', 'five_patients', 'acid_glycoprotein', 'year_follow', 'epithelial_cells', 'findings_indicate', 'were_investigated', 'studied_by', 'no_significant', 'evidence_that', 'kyasanur_forest', 'bile_acids', 'cigarette_smoking', 'beh_et', 'and_adolescents', 'nursing_care', 'revealed_that', 'retrospective_study', 'differs_from', 'pulmonary_metastases', 'pulmonary_fibrosis', 'nervous_system', 'followed_by', 'at_degrees', 'double_blind', 'plasma_acth', 'caused_by', 'south_african', 'non_invasive', 'plasma_protein', 'was_not', 'fmd_virus', 'biopsy_specimens', 'nucleic_acid', 'dental_caries', 'is_drawn', 'low_incidence', 'double_stranded', 'large_bowel', 'specific_antibodies', 'spontaneously_occurring', 'genetic_disorder', 'presenting_as', 'liver_disease', 'microscopic_examination', 'marrow_transplantation', 'an_unusual', 'characterised_by', 'correspond_to', 'self_limited', 'leading_to', 'tends_to', 'experimental_arthritis', 'artery_occlusion', 'examined_by', 'significantly_lower', 'has_not', 'lymph_node', 'is_usually', 'longer_than', 'patients_who', 'used_to', 'previously_treated', 'difference_between', 'renal_function', 'alpha_hydroxyvitamin', 'low_level', 'clinical_signs', 'depend_on', 'been_recognized', 'could_not', 'drug_induced', 'diagnosed_as', 'homozygous_sickle', 'poliomyelitis_like', 'six_months', 'were_treated', 'obstructive_lung', 'dying_back', 'majority_of', 'surgical_management', 'mediated_by', 'three_groups', 'chronic_ischemic', 'first_report', 'chagas_disease', 'malignant_lymphoma', 'beta_receptor', 'which_might', 'has_provided', 'agar_gel', 'cerebrospinal_fluid', 'type_ii', 'acute_leukemia', 'cell_line', 'relations_between', 'comparable_to', 'is_common', 'than_years', 'twenty_two', 'we_have', 'to_identify', 'special_reference', 'against_aujeszky', 'this_paper', 'storage_disease', 'thyroid_function', 'good_correlation', 'ischaemic_heart', 'cell_culture', 'coeliac_disease', 'most_common', 'pick_disease', 'who_developed', 'is_necessary', 'but_not', 'sella_turcica', 'lymphoblastoid_cell', 'inoculated_with', 'plays_an', 'be_demonstrated', 'post_operative', 'cyclic_gmp', 'been_found', 'burkitt_lymphoma', 'this_disorder', 'years_later', 'coronary_arteries', 'diabetic_patients', 'experimental_infection', 'valvular_heart', 'was_isolated', 'old_woman', 'obstructive_airways', 'cellular_immune', 'taken_into', 'metabolic_disorders', 'we_conclude', 'were_studied', 'one_day', 'system_cns', 'not_yet', 'tendency_to', 'age_sex', 'is_often', 'risk_factors', 'epidemiological_studies', 'it_was', 'medical_management', 'nude_mice', 'might_be', 'to_prevent', 'body_weight', 'rheumatic_heart', 'breast_cancer', 'renal_tubular', 'prospective_study', 'plasma_exchange', 'hla_antigens', 'cytopathic_effect', 'may_have', 'rheumatoid_factor', 'basal_ganglia', 'bk_virus', 'which_had', 'helpful_in', 'circulating_immune', 'in_man', 'stage_iv', 'high_risk', 'identical_to', 'raised_serum', 'central_core', 'these_data', 'blood_gases', 'vena_cava', 'most_frequently', 'herpes_zoster', 'who_are', 'consistent_with', 'those_seen', 'white_tailed', 'new_jersey', 'glucose_phosphatase', 'inherited_metabolic', 'may_be', 'significantly_elevated', 'viral_diarrhea', 'be_responsible', 'marrow_involvement', 'were_analyzed', 'more_frequent', 'considered_as', 'been_demonstrated', 'kidney_cell', 'up_to', 'no_evidence', 'long_standing', 'an_increase', 'an_abnormal', 'years_old', 'radiation_therapy', 'they_are', 'environmental_factors', 'combination_chemotherapy', 'with_respect', 'electron_microscopy', 'pathological_changes', 'is_likely', 'late_onset', 'suitable_for', 'free_interval', 'serum_levels', 'subjected_to', 'patient_died', 'complete_remission', 'to_be', 'week_old', 'relationship_between', 'like_particles', 'infected_cells', 'blood_lymphocytes', 'spinal_cord', 'immune_complexes', 'this_complication', 'present_study', 'sickle_cell', 'virus_particles', 'had_normal', 'but_also', 'correlate_with', 'management_of', 'coronary_heart', 'were_tested', 'indicating_that', 'to_evaluate', 'influenza_virus', 'been_studied', 'incidence_of', 'can_be', 'reasons_for', 'increased_susceptibility', 'was_assessed', 'nelson_syndrome', 'cerebrovascular_disease', 'significant_correlation', 'different_types', 'data_suggest', 'mucosal_disease', 'human_chorionic', 'virus_dna', 'proposed_that', 'experimental_model', 'respiratory_tract', 'factor_xiii', 'factor_ix', 'serum_lipids', 'common_cause', 'cyclic_nucleotide', 'nerve_conduction', 'cells_infected', 'm_ni', 'serum_afp', 'cerebro_vascular', 'exercise_tests', 'more_often', 'arterial_blood', 'other_causes', 'clostridium_perfringens', 'late_infantile', 'demonstrate_that', 'healthy_individuals', 'skin_fibroblasts', 'the_possibility', 'all_cases', 'varying_degrees', 'recent_years', 'had_received', 'plasma_lipids', 'polyacrylamide_gel', 'virus_induced', 'surgical_treatment', 'low_levels', 'antibody_dependent', 'they_may', 'subacute_necrotizing', 'showed_no', 'renal_insufficiency', 'elevated_plasma', 'addition_to', 'proficiency_testing', 'stranded_rna', 'judged_by', 'such_as', 'stage_iii', 'was_established', 'exposed_to', 'myocardial_infarction', 'screening_test', 'conduction_velocity', 'recovered_from', 'chickens_inoculated', 'higher_than', 'complement_fixing', 'is_recommended', 'implications_for', 'infected_with', 'chronic_active', 'gilles_de', 'immune_responses', 'we_believe', 'brain_stem', 'related_to', 'surgical_intervention', 'that_there', 'drug_treatment', 'chorionic_gonadotropin', 'inactivated_foot', 'this_finding', 'electron_microscopic', 'specimens_from', 'interaction_between', 'to_treat', 'acute_respiratory', 'free_survival', 'acute_stage', 'partial_remission', 'applied_to', 'susceptible_chickens', 'untreated_graves', 'crohn_disease', 'lower_than', 'one_case', 'mental_disorder', 'chronic_obstructive', 'turkey_herpesvirus', 'an_adult', 'diagnostic_problems', 'pulmonary_arterial', 'were_compared', 'twenty_three', 'should_be', 'mdv_dna', 'insulin_dependent', 'appear_to', 'recovery_from', 'plasma_concentrations', 'old_chicks', 'be_differentiated', 'psychiatric_disorder', 'suggested_that', 'were_seen', 'any_other', 'preventive_measures', 'early_stage', 'in_terms', 'an_important', 'so_called', 'had_been', 'is_emphasized', 'blood_lipids', 'alpha_galactosidase', 'affected_by', 'are_involved', 'with_graves', 'elevated_serum', 'been_made', 'type_iia', 'can_cause', 'was_performed', 'is_not', 'renal_transplant', 'decrease_in', 'data_indicate', 'which_could', 'correlated_with', 'greater_than', 'conclude_that', 'severity_of', 'as_cause', 'tissue_culture', 'one_hundred', 'other_hand', 'amniotic_fluid', 'after_inoculation', 'myelin_basic', 'concluded_that', 'bowel_disease', 'similar_to', 'oral_contraceptives', 'in_situ', 'were_found', 'peripheral_neuropathy', 'was_noted', 'muscular_dystrophy', 'method_for', 'natural_history', 'antithyroid_drugs', 'was_conducted', 'personality_disorder', 'attending_venereal', 'be_applied', 'healthy_volunteers', 'absence_of', 'be_made', 'benign_breast', 'physical_exercise', 'twenty_five', 'old_age', 'alpha_antitrypsin', 'acute_lymphoblastic', 'to_compare', 'experimental_animals', 'be_expected', 'serum_angiotensin', 'hydroxylase_activity', 'immunity_against', 'high_frequency', 'children_with', 'neoplastic_disease', 'our_experience', 'lipoprotein_cholesterol', 'found_between', 'previous_reports', 'very_low', 'detected_by', 'two_groups', 'will_be', 'cell_mediated', 'ventricular_function', 'pathological_findings', 'against_newcastle', 'perianal_paget', 'ch_ch', 'an_outbreak', 'hla_typing', 'in_contrast', 'replacement_therapy', 'causative_agents', 'myasthenia_gravis', 'clinical_manifestations', 'result_from', 'there_were', 'crystal_deposition', 'fatty_acids', 'aujeszky_disease', 'fatty_acid', 'determined_by', 'indicate_that', 'peripheral_nerve', 'virus_ibdv', 'plasma_renin', 'lymphocytotoxic_antibodies', 'ankylosing_spondylitis', 'weight_loss', 'alzheimer_disease', 'family_history', 'carbon_monoxide', 'presence_of', 'renal_failure', 'was_detected', 'not_only', 'months_after', 'influenced_by', 'may_lead', 'no_apparent', 'peripheral_blood', 'peripheral_vascular', 'inclusion_body', 'temperature_sensitive', 'corticosteroid_therapy', 'immune_system', 'approach_to', 'it_is', 'prolyl_hydroxylase', 'to_define', 'other_types', 'alpha_globulin', 'to_distinguish', 'immune_complex', 'blood_plasma', 'it_should', 'vitamin_deficiency', 'multiple_sclerosis', 'advanced_stage', 'existence_of', 'leads_to', 'advanced_hodgkin', 'basedow_disease', 'observations_suggest', 'more_rapidly', 'factors_such', 'adjuvant_chemotherapy', 'low_density', 'hodgkin_disease', 'granulomatous_disease', 'primary_tumor', 'not_necessarily', 'clinical_picture', 'pathological_features', 'been_observed', 'itai_itai', 'aleutian_disease', 'over_period', 'muscle_biopsy', 'an_inactivated', 'old_man', 'two_years', 'viii_related', 'an_early', 'not_appear', 'ability_to', 'hyaline_membrane', 'effective_treatment', 'amyotrophic_lateral', 'rosette_formation', 'four_months', 'central_nervous', 'arterial_hypertension', 'mg_kg', 'ranged_from', 'particular_reference', 'confined_to', 'advanced_malignant', 'suggest_that', 'detected_in', 'so_far', 'periodontal_disease', 'niemann_pick', 'would_be', 'complement_fixation', 'pituitary_irradiation'}"
     ]
    },
    {
     "name": "stdout",
     "output_type": "stream",
     "text": [
      "\n"
     ]
    }
   ],
   "source": [
    "# review phrase matches\n",
    "phrases = []\n",
    "for terms in sklearn_phrases.transform(matched_sents):\n",
    "    for term in terms:\n",
    "        if term.count('_') >= 1:\n",
    "            phrases.append(term)\n",
    "\n",
    "print(set(phrases))"
   ]
  },
  {
   "cell_type": "code",
   "execution_count": 36,
   "metadata": {},
   "outputs": [],
   "source": [
    "# create a list of stop words\n",
    "from spacy.lang.en.stop_words import STOP_WORDS\n",
    "common_terms = list(STOP_WORDS)"
   ]
  },
  {
   "cell_type": "markdown",
   "metadata": {},
   "source": [
    "**common_terms:** optional list of “stop words” that won’t affect frequency count of expressions containing them.\n",
    "- The common_terms parameter add a way to give special treatment to common terms (aka stop words) such that their presence between two words won’t prevent bigram detection. It allows to detect expressions like “bank of america” or “eye of the beholder”.\n"
   ]
  },
  {
   "cell_type": "markdown",
   "metadata": {},
   "source": [
    "##### Gensim API\n",
    "A more complex API, though it is faster and has better integration with other gensim components (e.g. Phraser)"
   ]
  },
  {
   "cell_type": "code",
   "execution_count": 37,
   "metadata": {},
   "outputs": [],
   "source": [
    "from gensim.models.phrases import Phrases, Phraser"
   ]
  },
  {
   "cell_type": "code",
   "execution_count": 38,
   "metadata": {},
   "outputs": [
    {
     "data": {
      "text/plain": [
       "<gensim.models.phrases.Phrases at 0x282035b9160>"
      ]
     },
     "execution_count": 38,
     "metadata": {},
     "output_type": "execute_result"
    }
   ],
   "source": [
    "phrases = Phrases(\n",
    "      matched_sents\n",
    "    , common_terms=common_terms\n",
    "    , min_count=5\n",
    "    , threshold=5\n",
    "    , scoring='default'\n",
    ")\n",
    "\n",
    "phrases"
   ]
  },
  {
   "cell_type": "markdown",
   "metadata": {},
   "source": [
    "### Phrases Params\n",
    "\n",
    "- **scoring:** specifies how potential phrases are scored for comparison to the threshold setting. scoring can be set with either a string that refers to a built-in scoring function, or with a function with the expected parameter names. Two built-in scoring functions are available by setting scoring to a string:\n",
    "\n",
    "    - ‘default’: from “Efficient Estimaton of Word Representations in Vector Space” by Mikolov, et. al.: \n",
    "    \n",
    "$$\\frac{count(AB) - count_{min}}{count(A) * count(B)} * N > threshold$$\n",
    "    \n",
    "\n",
    "    - where N is the total vocabulary size.\n",
    "    - Thus, it is easier to exceed the threshold when the two words occur together often or when the two words are rare (i.e. small product)"
   ]
  },
  {
   "cell_type": "code",
   "execution_count": 39,
   "metadata": {},
   "outputs": [
    {
     "data": {
      "text/plain": [
       "<gensim.models.phrases.Phraser at 0x28200783ef0>"
      ]
     },
     "execution_count": 39,
     "metadata": {},
     "output_type": "execute_result"
    }
   ],
   "source": [
    "bigram = Phraser(phrases)\n",
    "\n",
    "bigram"
   ]
  },
  {
   "cell_type": "markdown",
   "metadata": {},
   "source": [
    "The phrases object still contains all the source text in memory. A gensim Phraser will remove this extra data to become smaller and somewhat faster than using the full Phrases model. To determine what data to remove, the Phraser ues the  results of the source model’s min_count, threshold, and scoring settings. (You can tamper with those & create a new Phraser to try other values.)\n",
    "\n",
    "SOURCE: https://radimrehurek.com/gensim/models/phrases.html"
   ]
  },
  {
   "cell_type": "code",
   "execution_count": 40,
   "metadata": {},
   "outputs": [],
   "source": [
    "def print_phrases(phraser, text_stream, num_underscores=2):\n",
    "    \"\"\" identify phrases from a text stream by searching for terms that\n",
    "        are separated by underscores and include at least num_underscores\n",
    "    \"\"\"\n",
    "    \n",
    "    phrases = []\n",
    "    for terms in phraser[text_stream]:\n",
    "        for term in terms:\n",
    "            if term.count('_') >= num_underscores:\n",
    "                phrases.append(term)\n",
    "    print(set(phrases))"
   ]
  },
  {
   "cell_type": "code",
   "execution_count": 41,
   "metadata": {},
   "outputs": [
    {
     "name": "stdout",
     "output_type": "stream",
     "text": [
      "{'nursing_of_patient', 'patients_with_advanced', 'years_of_age', 'early_in_the_course', 'case_of_whipple', 'morbidity_and_mortality', 'strains_of_foot', 'signs_and_symptoms', 'clinical_and_pathological', 'mode_of_inheritance', 'patients_with_graves', 'studies_were_carried', 'role_in_the_pathogenesis', 'colitis_and_crohn', 'light_and_electron', 'history_of_breast', 'lymphocytes_from_patients', 'disease_of_the_vulva', 'support_the_hypothesis', 'days_after_infection', 'correlation_was_found', 'described_in_the_literature', 'children_with_congenital', 'carcinoma_in_situ', 'presence_or_absence', 'patients_with_chronic', 'play_an_important', 'england_and_wales', 'incidence_of_coronary', 'thyroidectomy_for_graves', 'herpesvirus_of_turkey', 'weeks_of_age', 'caries_and_periodontal', 'symposium_on_pathophysiology', 'cause_and_effect', 'children_and_adolescents', 'treatment_of_choice', 'months_of_age', 'outbreaks_of_respiratory', 'etiology_and_pathogenesis', 'herpesvirus_of_turkeys', 'months_after_the_onset', 'attention_is_drawn', 'osteoclasts_in_paget', 'bursa_of_fabricius', 'lipids_and_lipoproteins', 'emphasis_on_gallstone', 'patients_with_cushing', 'plays_an_important', 'clinical_and_laboratory', 'discussed_in_relation', 'involved_in_the_pathogenesis', 'review_of_the_literature', 'report_of_case', 'radiotherapy_and_chemotherapy', 'foot_and_mouth', 'iii_and_iv', 'follow_up_period', 'center_for_disease', 'patients_with_crohn', 'risk_of_coronary', 'diseases_with_special', 'patients_with_ulcerative', 'patients_with_hodgkin', 'despite_the_fact', 'infected_with_marek', 'alpha_and_beta', 'greater_than_or_equal', 'factor_in_the_pathogenesis', 'risk_of_developing', 'prevention_of_coronary', 'period_of_time', 'head_and_neck', 'patient_with_whipple', 'support_the_concept', 'transposition_of_the_great', 'age_of_onset', 'taken_into_account', 'carcinoma_of_the_lung', 'age_and_sex', 'patients_with_suspected', 'men_and_women', 'individuals_with_recurrent', 'virus_of_aujeszky', 'patients_with_limited'}\n"
     ]
    }
   ],
   "source": [
    "print_phrases(bigram, matched_sents)"
   ]
  },
  {
   "cell_type": "markdown",
   "metadata": {},
   "source": [
    "### Tri-gram phrase model\n",
    "\n",
    "We can place the text from the first phrase model into another Phrases object to create n-term phrase models. We can repear this process multiple times."
   ]
  },
  {
   "cell_type": "code",
   "execution_count": 42,
   "metadata": {},
   "outputs": [
    {
     "name": "stdout",
     "output_type": "stream",
     "text": [
      "{'portion_of_the_center_for_disease', 'association_between_the_occurrence', 'patients_with_pulmonary_metastases', 'children_with_coeliac_disease', 'found_to_have_raised_serum', 'strains_of_newcastle_disease', 'soon_as_the_diagnosis', 'disease_is_an_infrequent', 'treatment_for_graves_disease', 'chronic_ischemic_heart_disease', 'graves_disease_author_transl', 'light_and_electron_microscopic_study', 'half_of_the_cases', 'asia_foot_and_mouth', 'clinical_picture_of_the_disease', 'hyperthyroidism_of_graves_disease', 'comparison_of_the_lipid', 'lesions_of_whipple_disease', 'department_of_health_education', 'pregnancy_and_trophoblastic_disease', 'epstein_barr_virus_infection', 'disorders_of_cardiac_rhythm', 'staging_laparotomy_for_hodgkin_disease', 'hexosaminidase_in_tay_sachs', 'found_to_be_significantly_greater', 'predictor_of_hyaline_membrane', 'years_after_the_diagnosis', 'patients_with_renal_bone', 'lymphoblastoid_cell_lines_derived', 'small_cell_carcinoma_of_the_lung', 'lipoprotein_and_coronary_heart', 'reactivity_of_the_individual', 'antibody_to_cytomegalovirus_cmv', 'igg_of_patients_with_graves', 'high_density_lipoprotein_cholesterol', 'increased_risk_of_developing', 'significantly_lower_than_normal', 'use_in_the_diagnosis', 'onset_of_the_order', 'patients_with_autoimmune_thyroiditis', 'patients_with_chronic_lymphocytic_leukemia', 'paget_disease_of_bone', 'patient_with_chronic_granulomatous', 'hypocalcemia_after_thyroidectomy_for_graves', 'form_of_pelizaeus_merzbacher', 'identical_to_those_found', 'hepatitis_to_chronic_liver', 'inherited_as_an_autosomal_recessive', 'radioreceptor_assay_of_tsh', 'cases_of_grave_disease', 'progression_of_pulmonary_vascular', 'later_stages_of_the_disease', 'concentration_and_or_decreased', 'disease_and_healthy_controls', 'management_of_parkinson_disease', 'antibody_to_virus_infection', 'carried_out_in_cases', 'difference_was_not_significant', 'acute_and_chronic_liver', 'percentage_of_rosette_forming', 'tumor_associated_surface_antigen', 'appear_to_be_associated', 'band_of_the_peak', 'analysis_of_the_results', 'detection_of_periodontal_disease', 'disease_in_the_western', 'mink_and_in_ferrets', 'prevalence_of_stone_disease', 'disease_had_raised_serum', 'morbidity_and_mortality_from_disease', 'patient_died_months_after_the_onset', 'control_group_of_subjects', 'case_of_hodgkin_disease', 'carcinoma_of_the_lung', 'prenatal_diagnosis_of_genetic', 'rarity_of_the_disorder', 'course_of_antithyroid_drugs', 'paget_disease_of_the_male', 'addison_disease_and_diabetes_mellitus', 'optic_nerve_in_health', 'complete_transposition_of_the_great', 'forms_of_ischemic_heart', 'hodgkin_disease_in_blacks', 'possible_factor_in_the_pathogenesis', 'early_in_the_course', 'derived_from_hodgkin_disease', 'child_with_heart_disease', 'infants_with_hyaline_membrane', 'splenectomy_in_hodgkin_disease', 'antibodies_against_herpes_simplex', 'negative_at_the_direct', 'outbreak_of_winter_vomiting', 'leukemias_and_hodgkin_disease', 'good_correlation_was_found', 'structures_in_bhk_cells', 'children_with_congenital_heart_disease', 'results_of_this_study', 'chronic_pulmonary_heart_disease', 'chicks_with_infectious_bursal', 'removal_of_the_tumor', 'late_in_the_course', 'detection_of_aujeszky_disease', 'patients_with_heart_disease', 'aleutian_disease_in_mink', 'capacity_of_the_liver', 'cases_of_acute_myeloid', 'stage_iii_and_iv', 'leading_to_the_diagnosis', 'investigation_of_patients_with_suspected', 'manifestation_of_the_disease', 'development_of_cell_mediated', 'patients_with_rheumatic_fever', 'patients_with_metastatic_disease', 'cytomegalovirus_cmv_was_isolated', 'remain_alive_and_remain_alive', 'chemotherapy_of_trophoblastic_disease', 'dental_caries_and_periodontal_disease', 'patients_with_huntington_disease', 'women_from_venereal_disease', 'huntington_disease_and_normal_controls', 'chickens_infected_with_marek_disease', 'prevention_of_alcoholic_liver', 'parameter_of_the_phytanic_acid', 'variant_of_the_disease', 'diagnosed_in_most_cases', 'cases_of_legionnaires_disease', 'osteoclasts_in_paget_bone', 'cases_of_paget_disease', 'day_old_chickens_infected', 'important_factor_in_the_pathogenesis', 'infected_cells_author_transl', 'normal_subjects_and_in_patients', 'months_with_alpha_hydroxyvitamin', 'disease_and_hashimoto_thyroiditis', 'therapy_should_be_given', 'liver_disease_were_studied', 'involved_in_the_pathogenesis', 'found_in_parkinson_disease', 'turkey_herpesvirus_and_marek_disease', 'hdl_and_vascular_disease', 'crohn_disease_author_transl', 'nelson_syndrome_and_one_patient', 'treatment_of_trophoblastic_disease', 'presence_of_coronary_heart', 'value_in_the_assessment', 'disease_report_of_case', 'diagnosis_of_hodgkin_disease', 'stage_of_the_disease', 'etiology_of_liver_disease', 'testing_in_the_patient', 'hodgkin_disease_were_found', 'disease_or_corticosteroid_therapy', 'patients_with_less_advanced', 'patient_who_had_been_treated', 'clinical_course_of_the_disease', 'biopsy_specimens_from_patients', 'serum_samples_from_patients', 'follow_up_period_of_months', 'presence_of_aujeszky_disease', 'patients_with_diverticular_disease', 'inactivated_foot_and_mouth_disease', 'related_to_the_severity', 'prevalence_of_the_disease', 'study_of_the_pathogenesis', 'glucocorticoids_who_had_similar', 'incidence_of_legionnaires_disease', 'patients_with_respiratory_disease', 'manifestations_of_graves_disease', 'cells_infected_with_newcastle_disease', 'vulva_to_invasive_carcinoma', 'differences_in_the_prevalence', 'experiments_and_in_rheumatic', 'susceptibility_to_the_disease', 'patients_in_the_acute_stage', 'patient_with_graves_disease', 'bursa_of_fabricius_thymus', 'mucosal_disease_virus_infection', 'patient_with_gaucher_disease', 'surface_of_peripheral_blood', 'months_to_nine_years', 'cases_of_crohn_disease', 'mortality_from_coronary_heart', 'group_of_patients_with_chronic', 'aspects_of_the_disorder', 'aspects_of_the_management', 'patients_with_inflammatory_bowel', 'value_in_the_diagnosis', 'vaccine_against_aujeszky_disease', 'caused_by_the_infection', 'characterized_by_an_increase', 'coronary_arteriography_and_left', 'mg_kg_body_weight', 'control_subjects_and_patients', 'serum_levels_were_determined', 'patients_with_neoplastic_disease', 'patients_with_itsenko_cushing', 'patients_with_cushing_syndrome', 'cells_in_the_marrow', 'treatment_of_paget_disease', 'cases_in_the_clinic', 'treatment_of_cushing_disease', 'connected_with_the_disease', 'screening_test_to_detect', 'survivors_of_myocardial_infarction', 'prevention_of_coronary_heart_disease', 'sendai_and_newcastle_disease', 'strains_of_infectious_bursal', 'characteristics_of_marek_disease', 'st_depression_greater_than_or_equal', 'lymphocytes_in_hodgkin_disease', 'patient_with_alpha_antitrypsin', 'plasma_acth_and_cortisol', 'report_of_case_and_review_of_the_literature', 'acute_stage_of_the_disease', 'years_after_the_initial', 'fluids_in_the_anterior', 'considered_in_differential_diagnosis', 'individuals_with_ischemic_heart', 'calcitonin_in_paget_disease', 'cases_of_hodgkin_disease', 'death_from_cardiovascular_disease', 'occurrence_of_coronary_heart', 'patients_with_addison_disease', 'nursing_of_patient_with_difficulty', 'different_stages_of_the_disease', 'cause_of_chronic_liver', 'evidence_of_bone_marrow', 'm_ni_re_disease', 'associated_with_hodgkin_disease', 'diagnosis_of_legionnaires_disease', 'patients_with_breast_cancer', 'cushing_disease_and_nelson_syndrome', 'storage_disease_with_cardiomegaly', 'forms_of_the_disease', 'light_and_electron_microscopic', 'antibody_titers_and_the_clinical_course', 'divided_into_three_groups', 'defect_in_parkinson_disease', 'metastatic_disease_at_the_time', 'characteristic_of_this_disorder', 'properties_of_aujeszky_disease', 'disease_of_the_central_nervous', 'prevalence_of_nine_different', 'hydatid_disease_in_new_zealand', 'midline_and_often_also_involvement', 'patient_with_hand_foot', 'knowledge_of_tay_sachs', 'paget_disease_of_the_vulva', 'replication_of_foot_and_mouth', 'management_of_herpetic_eye', 'according_to_our_results', 'died_of_coronary_heart', 'strains_of_epizootic_hemorrhagic', 'consistent_with_the_hypothesis', 'production_of_thyroid_stimulating', 'new_jersey_and_alberta', 'varied_with_the_origin', 'demonstration_of_the_agent', 'patients_with_coronary_heart', 'correlated_with_the_severity', 'early_stages_of_the_disease', 'observed_in_graves_disease', 'order_to_disorder_transition', 'originating_from_marek_disease', 'tumors_from_specific_pathogen', 'myocardial_infarction_is_probably', 'classification_of_hodgkin_disease', 'discussed_in_the_light', 'susceptibility_of_the_legionnaires_disease', 'effects_of_bypass_surgery', 'evidence_of_immune_complex', 'cell_mediated_immune_response', 'cases_of_cushing_syndrome', 'mouth_disease_fmd_virus', 'cross_reactions_of_normal', 'aspects_of_crohn_disease', 'significantly_higher_in_patients', 'osteoclasts_in_paget_disease', 'lesions_of_the_peripheral_nerves', 'patients_with_ulcerative_colitis_and_crohn', 'associated_with_coronary_heart', 'animals_did_not_develop', 'cancer_of_the_lung', 'sarcoidosis_and_whipple_disease', 'observations_on_outbreaks_of_respiratory', 'high_density_lipoprotein_deficiency', 'primary_prevention_of_coronary', 'factors_such_as_obesity', 'present_in_the_sera', 'stages_of_cushing_disease', 'removed_from_the_study', 'therapy_for_hodgkin_disease', 'cases_of_graves_disease', 'immunity_to_newcastle_disease', 'evidence_of_metastatic_disease', 'patients_with_chronic_granulomatous_disease', 'diabetes_and_graves_disease', 'cultivation_of_the_foot_and_mouth', 'carcinoma_of_the_cervix', 'polymerization_in_liver_disease', 'adenosine_monophosphate_cyclic_amp', 'type_foot_and_mouth', 'inoculated_with_the_infectious_bursal', 'transmission_of_creutzfeldt_jakob', 'basedow_disease_author_transl', 'administration_of_newcastle_disease', 'prevalence_of_hbv_infection', 'receptors_in_parkinson_disease', 'individuals_with_recurrent_disease', 'method_for_wilson_disease', 'applied_to_the_study', 'establishment_of_marek_disease', 'carcinoma_of_the_apocrine', 'occurred_in_the_context', 'impairment_of_cell_mediated', 'half_of_the_patients', 'reaction_of_the_synovial_membrane', 'transposition_of_the_great_arteries', 'severity_of_the_disease', 'outbreak_of_poliomyelitis_like', 'greater_than_or_equal', 'disease_its_cause_and_effect', 'assessment_of_coronary_heart', 'normal_and_disease_states', 'pathogenesis_of_this_disorder', 'patients_with_prostatic_carcinoma', 'cases_of_tangier_disease', 'early_in_the_course_of_the_disease', 'examined_for_the_presence', 'cellular_immunity_to_protein', 'virulent_and_an_avirulent', 'marek_disease_lymphoblastoid_cell', 'virus_in_chick_embryo', 'good_correlation_between_the_activity', 'majority_of_these_patients', 'expression_of_marek_disease', 'patients_with_alcoholic_liver', 'subjects_with_coronary_heart', 'crohn_disease_and_ulcerative_colitis', 'rise_to_the_suspicion', 'composition_in_broad_beta', 'members_had_two_haplotypes', 'patients_with_hypertensive_disease', 'persons_with_ischemic_heart', 'depending_on_the_underlying', 'role_in_the_pathogenesis', 'head_and_neck_cancer', 'immunity_in_marek_disease', 'indirect_complement_fixation_test', 'age_and_sex_matched_controls', 'pathogenesis_of_foot_and_mouth', 'severity_of_periodontal_disease', 'mechanism_in_cushing_disease', 'initial_stage_of_the_disease', 'useful_in_the_diagnosis', 'disorder_have_been_reported', 'metabolic_defect_in_tangier_disease', 'chemotherapy_for_hodgkin_disease', 'cases_of_chronic_liver', 'newcastle_disease_virus_strains', 'patients_with_chronic_heart_disease', 'colectomy_for_crohn_disease', 'patient_with_chronic_obstructive', 'isolation_of_marek_disease', 'patients_with_untreated_coeliac', 'related_to_marek_disease', 'cells_in_the_bone_marrow', 'oat_cell_carcinoma_of_the_lung', 'vector_of_epizootic_hemorrhagic', 'results_of_surgical_treatment', 'patients_with_ischaemic_heart', 'patients_with_wilson_disease', 'liver_disease_in_renal_transplant', 'etiology_of_the_disease', 'disease_of_left_main', 'vaccine_against_marek_disease', 'chickens_with_marek_disease', 'transmission_of_mucosal_disease', 'natural_course_of_the_disease', 'treatment_for_paget_disease', 'previously_treated_hodgkin_disease', 'vaccine_in_patients_with_chronic', 'greater_than_ng_ml', 'animal_model_of_human', 'hla_antigens_were_determined', 'patients_with_advanced_malignant', 'lymphocytes_from_patients_with_coeliac_disease', 'similar_in_both_groups', 'severity_of_the_lung', 'infected_with_foot_and_mouth', 'diseases_with_special_emphasis_on_gallstone', 'form_of_crohn_disease', 'related_to_the_serum', 'effectiveness_of_the_new', 'patients_with_duodenal_ulcer', 'affected_by_paget_disease', 'kekava_strain_marek_disease', 'virus_and_epizootic_hemorrhagic', 'mithramycin_in_paget_disease', 'aujeszky_disease_virus_adv', 'plasma_lipids_and_lipoproteins', 'group_of_patients_suffering', 'strain_of_foot_and_mouth', 'granulomata_in_the_mucosa', 'complement_by_the_alternative', 'synovial_fluid_of_patients', 'recurrence_of_any_tmj', 'pregnenolone_was_within_the_normal_range', 'treatment_of_grave_disease', 'epidemic_of_hand_foot', 'compared_with_those_obtained', 'transmission_of_aleutian_disease', 'antigen_and_beta_microglobulin', 'investigation_of_legionnaires_disease', 'incidence_of_ischemic_heart', 'defect_in_tangier_disease', 'function_in_cerebrovascular_disease', 'progression_of_the_disease', 'lymphocytes_from_patients_with_hodgkin_disease', 'severity_of_the_liver_disease', 'appear_to_be_useful', 'activity_of_foot_and_mouth', 'results_indicate_an_association', 'arising_in_hodgkin_disease', 'chronic_active_liver_disease', 'manifestations_of_the_disease', 'strains_of_foot_and_mouth_disease', 'strain_of_marek_disease', 'disease_with_the_exception', 'lipoproteins_and_coronary_heart', 'report_of_case_simulating', 'hodgkin_disease_were_treated', 'patients_with_non_malignant', 'protection_against_marek_disease', 'sera_from_patients_with_hodgkin', 'patients_with_valvular_heart', 'st_depression_of_mm', 'short_and_long_term', 'creation_of_ventricular_septal', 'cells_infected_with_marek_disease', 'obtained_from_healthy_subjects', 'variant_of_tay_sachs', 'patients_with_advanced_hodgkin_disease', 'groups_on_the_basis', 'patient_with_crohn_disease', 'changes_in_the_physical', 'patients_with_nasopharyngeal_carcinoma', 'negative_correlation_with_coronary_heart', 'concentration_of_high_density', 'assessed_for_the_presence', 'aleutian_disease_of_mink', 'infected_with_newcastle_disease', 'patients_with_herpes_simplex', 'role_of_physical_exercise', 'symptoms_of_liver_disease', 'agent_of_legionnaires_disease', 'clinical_symptoms_and_biochemical', 'disease_in_guinea_pig', 'patients_with_ischemic_heart', 'contributing_to_the_development', 'patients_with_whipple_disease', 'studies_have_been_performed', 'extent_to_which_tryptophan', 'therapy_in_parkinson_disease', 'onset_of_the_disease', 'transmitted_by_the_inoculation', 'left_ventricular_ejection_fraction', 'marek_disease_and_turkey', 'incidence_of_ischaemic_heart', 'pathogenesis_of_marek_disease', 'low_levels_of_high_density', 'cure_of_cushing_disease', 'succumbed_to_the_disease', 'achieved_in_of_patients', 'elevation_of_blood_lipids', 'similar_to_those_seen', 'immunoglobulins_from_patients_with_graves', 'tbii_in_patients_with_graves', 'surgical_treatment_in_patients', 'patients_with_acute_leukemia', 'virus_by_fluorescent_antibody', 'patients_with_benign_prostatic', 'chickens_to_marek_disease', 'followed_by_radiation_therapy', 'significant_correlation_was_found', 'persistent_infection_with_hepatitis_virus', 'findings_support_the_concept', 'children_suffering_of_cerebral', 'diagnosis_of_whipple_disease', 'patient_with_fabry_disease', 'correlate_with_the_severity', 'relapses_of_the_disease', 'infantile_form_of_the_disease', 'virus_of_aujeszky_disease', 'respiratory_disease_in_scottish', 'drug_in_the_treatment', 'whipple_disease_case_report', 'inoculated_with_the_bartha', 'deaths_from_ischaemic_heart', 'tract_in_foot_and_mouth', 'necessary_for_the_correct', 'hodgkin_disease_in_children', 'disease_of_the_vulva', 'use_of_oral_contraceptives', 'patients_with_systemic_lupus', 'disease_of_the_neuromuscular', 'diagnosis_of_tay_sachs', 'adults_with_acute_leukemia', 'reported_in_the_literature', 'crohn_disease_and_in_normal_controls', 'entry_of_into_muscle', 'high_levels_of_antibody', 'patients_with_cushing_disease', 'cases_in_the_literature', 'patients_with_acute_myocardial', 'treatment_of_coronary_artery', 'vascular_disease_in_diabetes_mellitus', 'character_of_the_disease', 'diagnostic_problems_in_celiac_disease', 'aggravation_of_the_disease', 'patient_with_parkinson_disease', 'horses_and_from_horses', 'patients_with_limited_disease', 'serum_lipoproteins_were_determined', 'compared_to_normal_controls', 'patients_with_severe_combined', 'patients_with_chronic_pulmonary', 'family_history_of_breast_carcinoma', 'patients_with_vascular_disease', 'association_with_the_incidence_of_coronary', 'beginning_of_the_disease', 'evaluation_of_the_results', 'huntington_disease_is_associated', 'clinical_signs_of_disease', 'state_of_the_disease', 'conducted_by_the_center_for_disease', 'lymphocytes_from_patients_with_malignant', 'disease_of_the_stomach', 'transcription_of_the_marek_disease', 'age_of_the_patient', 'matched_for_age_sex', 'necessary_for_the_development', 'igg_and_igm_antibodies', 'aetiology_of_this_disease', 'cells_in_the_peripheral_blood', 'feature_of_the_disease', 'core_of_marek_disease', 'study_of_muscle_biopsy', 'factor_in_the_pathogenesis', 'greater_than_or_equal_to_months', 'patients_with_chronic_obstructive_pulmonary', 'fact_that_of_the_patients', 'changes_in_the_functional', 'majority_of_the_patients', 'sleep_in_chronic_obstructive', 'anti_foot_and_mouth_disease', 'types_of_liver_disease', 'seven_patients_with_advanced_hodgkin', 'understanding_of_the_pathogenesis', 'size_of_the_primary', 'interaction_between_foot_and_mouth', 'advanced_stages_of_the_disease', 'antigen_in_graves_disease', 'care_of_the_patient', 'immunity_to_marek_disease', 'patients_in_complete_remission', 'pathology_of_legionnaires_disease', 'patients_with_acute_myelogenous', 'incidence_of_degenerative_joint', 'beta_and_pre_beta', 'lead_to_better_understanding', 'advanced_stage_of_the_disease', 'mechanisms_of_the_disorder', 'patients_with_cystic_fibrosis', 'clinical_and_pathological_features', 'spread_of_the_disease', 'adenocarcinoma_of_the_prostate', 'patients_with_chronic_liver_disease', 'patients_with_various_forms', 'staging_laparotomy_with_splenectomy', 'associated_with_respiratory_disease', 'deaths_from_coronary_heart', 'patients_with_stage_iii', 'acth_secretion_in_cushing_disease', 'heredopathia_atactica_refsum_disease', 'liver_disease_in_papua', 'center_for_disease_control', 'year_follow_up_period', 'peripheral_blood_and_bone_marrow', 'mink_with_progressive_aleutian', 'levamisole_in_the_treatment', 'disease_in_the_ivory', 'marek_disease_herpesvirus_mdhv', 'apolipoproteins_in_tangier_disease', 'manifestations_of_crohn_disease', 'diagnosis_of_coronary_heart', 'induced_by_newcastle_disease', 'measured_in_patients_with_chronic', 'patients_with_coeliac_disease', 'women_with_cushing_disease', 'antigen_in_the_diagnosis', 'stages_of_the_disease', 'aged_from_to_years', 'cholesterol_and_coronary_heart', 'results_of_these_studies', 'lesions_of_the_central_nervous', 'associated_with_graves_disease', 'matter_of_the_brain', 'months_after_the_onset_of_the_disease', 'mortality_from_all_causes', 'type_iii_broad_beta', 'cell_surface_and_enzymatic', 'patients_with_chronic_ischemic_heart', 'cushing_disease_nelson_syndrome', 'strains_of_aujeszky_disease', 'severity_of_the_course', 'months_of_age_at_diagnosis', 'newborns_with_hyaline_membrane', 'sera_of_patients_with_hodgkin', 'vaccination_against_marek_disease', 'carcinoma_of_the_colon', 'cells_in_chagas_disease', 'serum_of_patients_with_hodgkin', 'thirty_eight_of_these_patients', 'complete_remission_for_median', 'rheumatoid_arthritis_is_reflected', 'response_to_newcastle_disease', 'patients_with_ulcerative_colitis', 'cholesterol_and_increased_risk', 'months_after_the_onset_of_symptoms', 'results_are_discussed_in_relation', 'outbreaks_of_respiratory_disease', 'presence_of_marek_disease', 'clinical_and_immune_responses', 'histogenesis_of_the_disease', 'patients_with_coronary_artery', 'change_in_the_course', 'phytanic_acid_storage_disease', 'model_of_the_human', 'cardiovascular_disease_risk_factor', 'reported_in_the_present', 'surgery_for_congenital_heart', 'course_of_graves_disease', 'treated_with_radiation_therapy', 'period_of_the_disease', 'interaction_of_marek_disease', 'risk_for_cardiovascular_disease', 'early_stages_of_disease', 'low_levels_of_hdl_cholesterol', 'normal_and_graves_disease', 'vivo_and_in_vitro', 'interferon_induction_of_avian', 'duration_of_the_disease', 'clinical_evidence_of_recurrence', 'aspects_of_whipple_disease', 'significance_in_the_epidemiology', 'herpesvirus_of_turkeys_hvt', 'children_with_heart_disease', 'importance_in_the_early_detection', 'strains_of_legionnaires_disease', 'disease_of_the_cornea', 'acute_leukaemia_in_remission', 'play_role_in_the_pathogenesis', 'serum_and_cerebrospinal_fluid', 'foot_and_mouth_disease', 'effect_on_the_course', 'phase_of_the_disease', 'involvement_of_the_leptomeninges', 'patients_with_nelson_syndrome', 'effect_of_carbon_monoxide', 'smoking_and_coronary_heart', 'authors_report_two_cases', 'virus_and_herpesvirus_of_turkey', 'adult_patients_with_chronic', 'hydatid_disease_of_the_liver', 'hodgkin_disease_and_other_malignancies', 'release_of_foot_and_mouth', 'vaccinated_with_foot_and_mouth', 'mechanism_of_foot_and_mouth', 'alveolar_bone_from_patients', 'peripheral_blood_lymphocytes_from_patients', 'marek_disease_md_virus', 'vaccinated_against_marek_disease', 'normal_in_alcoholic_liver', 'patients_with_lung_cancer', 'reported_in_this_paper', 'low_incidence_of_coronary_heart', 'reviewed_with_particular_reference', 'aleutian_disease_virus_adv', 'patient_with_whipple_disease', 'case_report_of_patient', 'coeliac_disease_and_their_response', 'degree_of_personality_disorder', 'formation_of_immune_complexes', 'protein_and_nucleic_acid', 'induction_of_marek_disease', 'patients_with_myasthenia_gravis', 'types_of_niemann_pick', 'patients_with_periodontal_disease', 'patients_with_crohn_disease', 'inoculation_of_day_old', 'disease_states_in_man', 'attenuated_virus_of_aujeszky', 'increased_susceptibility_to_infection', 'factor_in_the_pathogenesis_of_thromboembolic', 'evolution_of_the_disease', 'diagnosis_of_niemann_pick', 'prevalence_of_cerebrovascular_disease', 'testing_of_foot_and_mouth', 'evaluation_of_the_effect', 'dystrophy_and_charcot_marie', 'deficiency_in_niemann_pick', 'members_of_the_family', 'diagnosis_should_be_considered', 'leukemia_and_hodgkin_disease', 'lymphocytes_from_patients_with_graves_disease', 'patients_at_high_risk', 'patient_with_tangier_disease', 'thyroidectomy_for_graves_disease', 'cent_of_the_patients', 'years_after_the_operation', 'diverticular_disease_of_the_colon', 'hyperthyroidism_due_to_graves_disease', 'suggest_that_the_natural_history', 'range_to_per_cent', 'patients_with_peripheral_vascular', 'resistance_of_the_organism', 'prevention_of_ischaemic_heart', 'patient_with_addison_disease', 'epidemics_of_respiratory_disease', 'gingival_or_periodontal_disease', 'high_proportion_of_patients', 'diagnosis_of_crohn_disease', 'clinical_symptoms_of_the_disease', 'patients_with_multiple_sclerosis', 'evidence_of_liver_disease', 'outbursts_of_the_ulcer', 'hirschsprung_disease_was_suspected', 'proved_to_be_highly', 'diagnosis_of_liver_disease', 'patients_with_rheumatoid_arthritis', 'vaccination_against_newcastle_disease', 'vaccinal_immunity_against_marek_disease', 'patients_with_hashimoto_thyroiditis', 'transplants_by_the_nononcogenic', 'typical_of_this_form', 'use_in_the_assessment', 'clinical_signs_of_the_disease', 'clinical_and_laboratory_findings', 'proteins_of_infectious_bursal', 'variations_in_the_clinical', 'knowledge_of_periodontal_disease', 'disease_of_the_nipple', 'associated_with_the_presence', 'related_to_the_activity', 'ng_ml_in_patients', 'light_of_the_recent', 'previously_treated_with_surgery', 'suggested_that_the_assay', 'prevention_of_atherosclerotic_heart', 'trophoblastic_disease_are_discussed', 'diet_and_coronary_heart', 'patients_with_graves_disease', 'extent_of_the_disease', 'strains_of_marek_disease', 'rabies_foot_and_mouth', 'form_of_the_disorder', 'patients_with_refsum_disease', 'concept_of_the_pathogenesis', 'antigen_of_marek_disease', 'described_in_year_old', 'infected_with_marek_disease', 'involvement_of_the_heart', 'divided_into_two_groups', 'degrees_in_the_presence', 'patients_with_breast_carcinoma', 'identical_with_that_seen', 'prevalence_of_ischemic_heart', 'treated_for_hodgkin_disease', 'risk_factors_in_coronary_heart', 'risk_factors_for_the_development', 'form_of_chronic_granulomatous', 'foot_and_mouth_disease_fmd', 'involved_in_the_pathogenesis_of_this_disease', 'discussed_with_particular_reference', 'exacerbation_of_the_underlying', 'virus_infection_in_mink', 'extension_of_the_disease', 'free_of_coronary_heart', 'infected_with_infectious_bursal', 'surgical_resection_of_residual', 'patients_with_untreated_graves', 'management_of_cushing_disease', 'lung_cancer_and_chronic_obstructive', 'patients_with_alzheimer_disease', 'diagnosis_of_chronic_granulomatous', 'recurrent_or_metastatic_disease', 'nature_of_the_disease', 'free_for_over_years', 'epstein_barr_virus_ebv', 'central_nervous_system_cns', 'light_and_electron_microscope', 'virological_and_serological_studies', 'known_to_be_associated', 'paget_disease_of_the_breast', 'symptoms_of_cushing_disease', 'form_of_niemann_pick', 'records_of_hydatid_disease', 'case_of_cushing_disease', 'long_standing_graves_disease', 'inoculated_with_bhk_cells', 'hemizygotes_with_fabry_disease', 'procedure_for_the_diagnosis', 'cells_of_marek_disease', 'effective_treatment_of_parkinson_disease', 'light_and_electron_microscopic_studies', 'normal_subjects_and_patients_with_chronic', 'infection_with_the_virus', 'treatment_of_hodgkin_disease', 'pathogenesis_of_coeliac_disease', 'concentrations_were_significantly_lower', 'inoculation_of_three_to_four_week_old', 'involvement_in_crohn_disease', 'correlated_with_the_degree', 'herpesvirus_from_an_american_kestrel', 'screening_test_for_coeliac_disease', 'patients_with_niemann_pick', 'untreated_patients_with_graves', 'surgery_for_graves_disease', 'responsible_for_the_initiation', 'mucosal_disease_virus_mdv', 'patients_with_chronic_lung', 'led_to_the_diagnosis', 'cases_of_whipple_disease', 'surgical_treatment_of_crohn_disease', 'surface_antigen_in_chickens_infected', 'genetic_and_environmental_factors', 'patients_with_type_iv', 'graves_disease_and_hashimoto_thyroiditis', 'small_cell_lung_cancer', 'increases_in_plasma_cyclic', 'low_level_of_high_density', 'diagnosis_of_ischemic_heart', 'occlusion_and_periodontal_disease', 'carcinoma_of_the_kidney', 'exacerbation_of_the_disease', 'pathogenesis_of_the_disease', 'virus_was_not_detected', 'subtypes_of_foot_and_mouth', 'cases_of_extramammary_paget', 'alpha_and_beta_globulin', 'whipple_disease_author_transl', 'ulcerative_colitis_and_crohn_disease', 'untreated_patients_with_hodgkin', 'end_to_side_anastomosis', 'severity_of_coronary_artery', 'fabry_disease_in_female', 'patients_with_peptic_ulcer', 'isoenzymes_in_heart_disease', 'patients_with_small_cell', 'patients_with_partial_remission', 'quantitation_of_the_antigen', 'patients_with_rheumatic_heart', 'hashimoto_thyroiditis_the_mean', 'cases_of_m_ni', 'hla_antigens_in_patients', 'results_might_be_improved', 'risk_factors_for_coronary_heart', 'treatment_of_ischemic_heart', 'erythrocyte_membranes_from_patients', 'marek_disease_tumor_associated', 'sera_of_patients_with_graves', 'model_for_the_study', 'comparison_of_foot_and_mouth', 'aujeszky_disease_virus_strains', 'cystic_fibrosis_and_celiac_disease', 'therapy_of_hodgkin_disease', 'children_with_hirschsprung_disease', 'patient_with_hodgkin_disease', 'treatment_of_advanced_hodgkin', 'type_of_parkinson_disease', 'compared_to_the_control_group', 'case_of_cytomegalic_inclusion', 'patients_with_paget_disease', 'observed_in_this_disorder', 'effect_of_infectious_bursal', 'pigs_from_to_kg', 'total_thyroidectomy_for_graves', 'virus_in_cell_cultures', 'purpose_of_this_paper', 'variants_of_foot_and_mouth', 'patients_had_connective_tissue', 'disease_in_middle_aged', 'differences_in_the_incidence', 'infection_of_the_pregnant', 'number_of_reported_cases', 'similar_to_those_observed', 'insulin_dependent_diabetes_mellitus', 'antibody_response_of_tropical', 'patients_with_myocardial_infarction', 'significantly_higher_in_the_patients', 'branch_of_the_left', 'kekava_strain_mdv_kekava', 'patients_with_chronic_renal', 'patient_with_mcardle_disease', 'inclusion_body_hepatitis_virus', 'strain_of_newcastle_disease', 'marek_disease_in_chickens', 'hla_in_beh_et', 'disease_in_the_australian', 'analysis_of_the_data', 'prevention_of_periodontal_disease', 'subacute_necrotizing_leigh_disease', 'characteristic_of_whipple_disease', 'vitro_and_in_vivo', 'rheumatoid_arthritis_rheumatic_heart', 'influenza_viruses_were_isolated', 'therapy_may_be_associated', 'purified_foot_and_mouth', 'experimental_model_of_amniotic', 'incidence_of_coronary_heart_disease', 'patients_with_carcinoma_of_the_lung', 'sat_foot_and_mouth', 'exposure_to_infectious_bursal', 'disease_of_the_respiratory_tract', 'plays_an_important_role', 'excluded_from_the_study', 'antibodies_to_epstein_barr', 'earlier_with_herpesvirus_of_turkeys', 'efficiency_of_foot_and_mouth', 'management_of_trophoblastic_disease', 'similar_to_that_described', 'pediatric_patients_with_hodgkin', 'suffering_from_ischemic_heart', 'leptospiruria_and_clinical_signs', 'sign_of_the_disease', 'diagnosis_of_trophoblastic_disease', 'huntington_disease_erythrocyte_membranes', 'patients_with_hodgkin_disease', 'correlation_could_be_established', 'alpha_fetoprotein_in_liver_disease', 'progress_of_the_disease', 'susceptibility_to_foot_and_mouth', 'sudden_death_from_heart_disease', 'long_term_antibiotic_therapy', 'aujeszky_disease_in_goats', 'gm_gangliosidosis_and_fabry_disease', 'elevated_plasma_acth_levels', 'drugs_to_be_tested', 'related_to_the_duration', 'effective_in_the_treatment', 'activity_of_anti_foot', 'lesions_of_aleutian_disease', 'vaccinated_against_newcastle_disease', 'common_cause_of_low', 'patients_with_transposition_of_the_great', 'patients_with_benign_breast', 'aetiology_of_the_disease', 'ankylosing_spondylitis_and_polyarthrosis', 'normal_subjects_and_patients', 'basal_ganglia_and_scattered', 'appears_to_be_useful', 'ch_ch_ch_ch', 'natural_history_of_the_disease', 'independent_of_the_duration', 'extent_of_coronary_artery', 'marek_disease_virus_mdv', 'classification_of_von_willebrand', 'resistance_to_marek_disease', 'findings_of_the_present_study', 'sarcoma_in_paget_disease', 'sarcoidosis_and_gaucher_disease', 'tangier_disease_alpha_lipoprotein', 'patient_with_peripheral_vascular', 'clinical_manifestations_of_parainfluenza', 'effect_of_alpha_hydroxyvitamin', 'correlated_with_the_activity', 'patients_with_mixed_connective', 'released_from_the_normal', 'lymphocytes_from_patients_with_chagas_disease', 'diagnosis_of_cystic_fibrosis', 'marek_disease_tumor_cells', 'described_in_the_literature', 'case_of_herpes_zoster', 'time_of_the_diagnosis', 'patient_with_cardiovascular_disease', 'interference_by_newcastle_disease', 'report_of_three_cases', 'histochemical_and_ultrastructural_study', 'high_risk_of_coronary_heart', 'blood_flow_in_coronary_artery', 'patients_with_parkinson_disease', 'significantly_lower_in_patients', 'epidemiology_of_the_disease', 'midges_on_the_wind', 'chickens_inoculated_with_marek_disease', 'hodgkin_disease_author_transl', 'polypeptides_of_foot_and_mouth', 'alpha_pag_serum_levels', 'skin_and_plasma_lipids', 'review_of_the_literature', 'genesis_of_the_disease', 'pathophysiology_of_cushing_disease', 'patients_with_glycogen_storage', 'degree_of_these_changes', 'severity_of_liver_disease', 'remained_free_of_disease', 'carnivora_of_the_family', 'light_and_electron_microscopy', 'diagnosis_of_lysosomal_storage', 'cancer_of_the_cervix', 'mutants_of_foot_and_mouth', 'isolation_of_the_virus', 'aspects_of_paget_disease', 'assessment_of_the_extent', 'specific_antibodies_were_detected', 'study_of_plasma_lipids', 'results_of_the_present_study', 'lack_of_physical_activity', 'type_of_niemann_pick', 'serum_samples_were_obtained', 'type_ii_and_type_iii', 'report_of_two_cases', 'injury_in_adult_coeliac', 'susceptibility_to_the_foot_and_mouth', 'extramammary_paget_disease_of_the_vulva', 'changes_of_graves_disease', 'predispose_to_the_development', 'isolation_of_foot_and_mouth', 'shown_to_be_effective', 'cases_of_congenital_heart', 'cases_of_wilson_disease', 'advance_of_the_disease', 'identified_as_newcastle_disease', 'play_an_important_role_in_the_pathogenesis', 'test_for_foot_and_mouth', 'chickens_to_newcastle_disease', 'relationship_between_antibody_titers', 'prevention_of_heart_disease', 'induced_by_marek_disease', 'described_in_this_paper', 'tract_in_the_rna', 'level_was_significantly_lower', 'seen_in_normal_subjects', 'liver_disease_author_transl', 'constitutional_and_environmental_factors', 'wilson_disease_in_iran', 'consists_of_two_segments', 'depends_on_the_stage', 'found_to_be_elevated', 'complication_of_neoplastic_disease', 'play_an_important_role', 'patients_with_homozygous_sickle', 'depending_on_the_stage', 'suppressed_in_patients_with_cushing', 'immune_response_to_aerobic', 'compared_with_the_controls', 'development_of_chronic_liver', 'particles_of_foot_and_mouth', 'carried_out_to_establish', 'depends_on_the_age', 'patients_with_chronic_ischaemic_heart', 'case_report_author_transl', 'virus_in_cell_culture', 'early_stage_of_the_disease', 'subtyping_of_foot_and_mouth', 'patients_suffering_from_itsenko_cushing', 'clinics_in_england_and_wales', 'found_in_graves_disease', 'found_to_be_present', 'strains_of_clostridium_perfringens', 'associated_with_the_severity', 'choline_in_alzheimer_disease', 'normal_range_in_patients', 'cases_of_poliomyelitis_like', 'clinical_manifestation_of_the_disease', 'foals_with_respiratory_tract', 'risk_of_cardiovascular_disease', 'important_in_the_diagnosis', 'disorder_of_the_renal', 'percent_of_the_patients', 'patients_with_liver_disease', 'detected_in_the_blood', 'reproduction_of_the_disease', 'outcome_of_the_disease', 'graves_disease_hashimoto_thyroiditis', 'represents_the_first_report', 'diagnosis_of_von_gierke', 'prevalence_of_vascular_disease', 'adenocarcinoma_of_the_rectum', 'clinical_manifestations_of_the_disease', 'involvement_in_hodgkin_disease', 'subjects_with_chronic_obstructive', 'acute_stage_of_disease', 'considered_in_the_differential_diagnosis', 'prenatal_diagnosis_of_tay_sachs', 'serum_levels_of_complement', 'studied_in_healthy_individuals', 'crohn_disease_of_the_colon', 'types_of_foot_and_mouth', 'discussed_on_the_basis', 'performed_in_year_old', 'children_with_celiac_disease', 'irradiation_of_the_pituitary', 'years_of_age_working', 'activity_of_the_foot_and_mouth', 'use_in_the_treatment', 'present_in_only_cases', 'experimental_infection_with_infectious_bursal', 'patient_with_cushing_disease', 'properties_of_aleutian_disease', 'treatment_of_graves_disease', 'prior_to_the_development', 'associated_with_the_development', 'vp_of_foot_and_mouth', 'etiology_of_the_renal', 'lymphoblastoid_cell_line_msb', 'sera_from_patients_with_graves', 'concepts_in_the_management', 'tissues_the_genetically_determined', 'individuals_with_recurrent_hsv', 'cirrhosis_of_the_liver', 'effect_of_maternal_antibody', 'stage_ii_or_iii', 'surgical_treatment_and_irradiation', 'risk_of_coronary_heart_disease', 'treatment_of_peptic_ulcer', 'method_in_the_diagnosis', 'patients_with_renal_failure', 'low_density_lipoprotein_cholesterol', 'episode_of_the_disease', 'management_of_genetic_disorder', 'regulation_of_enzymic_activity', 'celiac_disease_in_children', 'skin_fibroblasts_from_patients', 'family_history_of_coronary_heart', 'patients_with_graves_ophthalmopathy', 'prove_to_be_useful', 'advanced_pulmonary_vascular_disease', 'evidence_of_chronic_liver', 'management_of_hodgkin_disease', 'virus_in_the_body', 'children_with_acute_lymphoblastic', 'mucosa_in_whipple_disease', 'purpose_of_this_study', 'appears_to_be_associated', 'parallel_the_clinical_course', 'humoral_and_cell_mediated', 'patients_with_von_willebrand', 'phases_of_the_disease', 'year_follow_up_study', 'treatment_of_ulcerative_colitis', 'newcastle_disease_herpes_simplex', 'disease_in_the_general_population', 'irradiation_and_combination_chemotherapy', 'chicken_at_the_time', 'induced_with_newcastle_disease', 'partial_remission_became_disease', 'activity_of_the_enzyme', 'patients_with_chronic_inflammatory_bowel', 'genome_of_infectious_bursal', 'advanced_stage_of_disease', 'outbreak_of_legionnaires_disease', 'clinical_features_of_the_disease', 'involved_in_the_pathogenesis_of_the_disease', 'production_of_foot_and_mouth', 'incidence_of_marek_disease', 'antibodies_in_the_serum', 'patients_with_acute_lymphoblastic', 'progression_of_liver_disease', 'development_of_ischemic_heart', 'conformation_and_or_organization', 'clinical_signs_and_symptoms', 'course_of_the_disease', 'proved_to_be_valuable', 'gilles_de_la_tourette', 'characterized_by_the_presence', 'development_of_coronary_heart', 'identified_as_influenza_viruses', 'treatment_of_chronic_obstructive', 'patients_with_chronic_obstructive_lung', 'detected_in_the_sera', 'correlation_between_the_presence', 'patients_with_stage_ii', 'content_in_the_endometrium', 'epstein_barr_virus_dna', 'variants_of_marek_disease', 'helpful_in_the_diagnosis', 'history_of_breast_disease', 'information_has_become_available', 'patients_with_different_stages', 'case_of_whipple_disease', 'newcastle_disease_virus_ndv', 'test_for_the_exclusion', 'rnase_in_the_presence', 'compared_with_normal_controls', 'mtc_pyrophosphate_was_carried', 'plasma_and_synovial_fluid', 'platelets_of_two_patients', 'treatment_of_parkinson_disease', 'patients_with_non_hodgkin', 'appeared_to_be_associated', 'patients_in_hong_kong', 'findings_in_whipple_disease', 'high_density_lipoprotein_hdl', 'onset_of_chronic_obstructive', 'lipoprotein_deficiency_tangier_disease', 'majority_of_the_glomeruli', 'paget_disease_of_the_nipple', 'staging_of_the_disease', 'environmental_factors_in_the_etiology', 'patients_with_beh_et', 'personality_of_the_patient', 'examined_by_electron_microscopy', 'experimental_infection_with_kyasanur_forest', 'positive_for_rheumatoid_factor', 'typing_of_foot_and_mouth', 'patient_with_darier_disease', 'risk_factors_for_heart_disease', 'severity_of_the_lesions', 'hand_foot_and_mouth_disease', 'period_of_six_years', 'complex_in_paget_disease', 'electrophoresis_in_polyacrylamide_gel', 'infants_with_congenital_heart', 'rates_of_morbidity_and_mortality', 'males_to_years_of_age', 'stage_ii_and_iii', 'virulent_one_of_titer', 'strain_of_aujeszky_disease', 'serum_angiotensin_converting_enzyme', 'association_between_the_two_diseases', 'children_with_hodgkin_disease', 'test_in_the_diagnosis', 'immunogenicity_of_the_dermal', 'shown_to_be_related', 'whipple_disease_are_briefly', 'antibody_dependent_cell_mediated', 'patients_with_more_advanced', 'age_and_sex_matched', 'muscle_fibers_in_duchenne', 'approach_to_the_management', 'disease_was_significantly_greater', 'metastatic_disease_is_described', 'weeks_after_the_onset', 'associated_with_cushing_disease', 'treatment_of_wilson_disease', 'hamsters_was_also_demonstrated', 'subjects_with_chronic_liver', 'carcinoma_of_the_breast', 'ranged_from_to_months', 'patients_with_advanced_disease', 'women_with_polycystic_ovarian', 'symposium_on_pathophysiology_of_biliary_tract', 'accumulation_in_refsum_disease', 'series_of_the_foot_and_mouth', 'course_of_hodgkin_disease', 'point_in_the_progression', 'resection_of_the_prostate', 'involvement_of_the_nervous_system', 'patients_with_sickle_cell', 'patients_with_end_stage', 'rats_and_guinea_pigs', 'acute_phase_of_the_disease', 'mucins_in_crohn_disease', 'newcastle_disease_virus_induced', 'suggested_that_the_development', 'marek_disease_virus_dna', 'form_of_the_disease', 'cell_mediated_immune_responses'}"
     ]
    },
    {
     "name": "stdout",
     "output_type": "stream",
     "text": [
      "\n"
     ]
    }
   ],
   "source": [
    "phrases = Phrases(bigram[matched_sents], common_terms=common_terms, min_count=1, threshold=1)\n",
    "trigram = Phraser(phrases)\n",
    "\n",
    "print_phrases(trigram, bigram[matched_sents], num_underscores=3)"
   ]
  },
  {
   "cell_type": "code",
   "execution_count": 43,
   "metadata": {},
   "outputs": [
    {
     "name": "stdout",
     "output_type": "stream",
     "text": [
      "DOC NUMBER: 0\n",
      "\n",
      "ORIGINAL SENTENT: immune complexes in rheumatic disease\n",
      "\n",
      "BIGRAM: immune_complexes in rheumatic disease\n",
      "\n",
      "TRIGRAM: immune_complexes in rheumatic_disease\n",
      "\n"
     ]
    }
   ],
   "source": [
    "for doc_num in [0]:\n",
    "    print('DOC NUMBER: {}\\n'.format(doc_num))\n",
    "    print('ORIGINAL SENTENT: {}\\n'.format(' '.join(matched_sents[doc_num])))\n",
    "    print('BIGRAM: {}\\n'.format(' '.join(bigram[matched_sents[doc_num]])))\n",
    "    print('TRIGRAM: {}'.format(' '.join(trigram[bigram[matched_sents[doc_num]]])))\n",
    "    print()"
   ]
  },
  {
   "cell_type": "markdown",
   "metadata": {},
   "source": [
    "#### Export Cleaned Text"
   ]
  },
  {
   "cell_type": "code",
   "execution_count": 45,
   "metadata": {},
   "outputs": [],
   "source": [
    "# write the cleaned text to a new file for later use\n",
    "with open(CLEANED_TEXT_PATH, 'w') as f:\n",
    "    for line in bigram[matched_sents]:\n",
    "        line = ' '.join(line) + '\\n'\n",
    "        line = line.encode('ascii', errors='ignore').decode('ascii')\n",
    "        f.write(line)"
   ]
  }
 ],
 "metadata": {
  "kernelspec": {
   "display_name": "Python [conda env:mlguild]",
   "language": "python",
   "name": "conda-env-mlguild-py"
  },
  "language_info": {
   "codemirror_mode": {
    "name": "ipython",
    "version": 3
   },
   "file_extension": ".py",
   "mimetype": "text/x-python",
   "name": "python",
   "nbconvert_exporter": "python",
   "pygments_lexer": "ipython3",
   "version": "3.5.4"
  }
 },
 "nbformat": 4,
 "nbformat_minor": 2
}
