{
 "cells": [
  {
   "cell_type": "markdown",
   "metadata": {},
   "source": [
    "# Text Preprocessing Homework Solution\n",
    "\n",
    "###### Author: Alex Sherman | alsherman@deloitte.com"
   ]
  },
  {
   "cell_type": "code",
   "execution_count": 1,
   "metadata": {},
   "outputs": [],
   "source": [
    "from IPython.core.display import display, HTML\n",
    "import spacy\n",
    "from spacy.matcher import Matcher\n",
    "from spacy.matcher import PhraseMatcher\n",
    "from spacy.lang.en.stop_words import STOP_WORDS\n",
    "from collections import defaultdict\n",
    "from configparser import ConfigParser, ExtendedInterpolation"
   ]
  },
  {
   "cell_type": "code",
   "execution_count": 2,
   "metadata": {},
   "outputs": [],
   "source": [
    "# configuration for data and acronyms\n",
    "config = ConfigParser(interpolation=ExtendedInterpolation())\n",
    "config.read('../../config.ini')\n",
    "\n",
    "DB_PATH = config['DATABASES']['PROJECT_DB_PATH']"
   ]
  },
  {
   "cell_type": "code",
   "execution_count": null,
   "metadata": {},
   "outputs": [],
   "source": [
    "# check for the names of the tables in the database\n",
    "import pandas as pd\n",
    "from sqlalchemy import create_engine\n",
    "\n",
    "# connect to the database\n",
    "engine = create_engine(DB_PATH)\n",
    "\n",
    "# read the 10k documents \n",
    "df = pd.read_sql(\"SELECT * FROM Sections\", con=engine)\n",
    "\n",
    "# the annual report from 1992 was scanned in poor quality\n",
    "# and the text was not legible\n",
    "# filter this document out of the dataframe\n",
    "df = df[df.filename != 'southwest-airlines-co_annual_report_1992.docx']\n",
    "\n",
    "# filter to sections that contain the word risk\n",
    "df = df[df.section_text.str.contains('costs')]\n",
    "\n",
    "# combine the text of the first ten sections in a variable named text\n",
    "text = ' '.join(df['section_text'].values[0:10])"
   ]
  },
  {
   "cell_type": "code",
   "execution_count": null,
   "metadata": {},
   "outputs": [],
   "source": [
    "# prints out 300 characters of the text string\n",
    "text[0:300]"
   ]
  },
  {
   "cell_type": "code",
   "execution_count": 6,
   "metadata": {},
   "outputs": [],
   "source": [
    "# load spacy nlp model\n",
    "# use 'en' if you don't have the lg model\n",
    "nlp = spacy.load('en_core_web_lg')"
   ]
  },
  {
   "cell_type": "code",
   "execution_count": 25,
   "metadata": {},
   "outputs": [
    {
     "name": "stdout",
     "output_type": "stream",
     "text": [
      "Wall time: 37.5 s\n"
     ]
    }
   ],
   "source": [
    "%%time\n",
    "\n",
    "# load the text in SpaCy\n",
    "# disable the named entity recognition ('ner')\n",
    "# this may take 1-2 minutes to load. Add %%time to check.\n",
    "doc = nlp(text, disable=['ner'])"
   ]
  },
  {
   "cell_type": "code",
   "execution_count": 30,
   "metadata": {},
   "outputs": [
    {
     "data": {
      "text/plain": [
       "In 1994, Southwest Airlines produced a profit of $179.3 million, a 16.2 percent increase over the $154.3 million of 1993, excluding the cumulative effect of 1993 accounting changes. Our net profit margin was percent in a year when the domestic passenger carrier industry, as a whole, basically broke  even. In 1994, we also: Completed negotiation of the launch contract for the Boeing 737-700 and the definition of our new aircraft to be received by Southwest beginning in fourth quarter 1997; Completed negotiation of a contract"
      ]
     },
     "execution_count": 30,
     "metadata": {},
     "output_type": "execute_result"
    }
   ],
   "source": [
    "# prints out fist 100 words of the SpaCy doc\n",
    "doc[0:100]"
   ]
  },
  {
   "cell_type": "markdown",
   "metadata": {},
   "source": [
    "### SpaCy - Text Extraction\n",
    "\n",
    "\n",
    "##### Outside of the collect_sents function, create the following:\n",
    "- A defaultdict called ent_count to count how many times the pattern appears (e.g. count how many times 'operating costs' appears)\n",
    "- A defaultdict called ent_sents to collect the sentences in which the patterns appear\n",
    "\n",
    "##### Create a collect sents function that does the following:\n",
    "- Uses span.lemma_.lower() for each entity. These entity lemmas will be used as the keys in both defaultdicts\n",
    "- Count the number of times the pattern entity appear.  \n",
    "- Collects the sentences in which the patterns appear"
   ]
  },
  {
   "cell_type": "code",
   "execution_count": 31,
   "metadata": {},
   "outputs": [],
   "source": [
    "def collect_sents(matcher, doc, i, matches):\n",
    "    # extract the match_id, start, and end\n",
    "    match_id, start, end = matches[i]\n",
    "    \n",
    "    # create the span by using the start and end index in the text\n",
    "    span = doc[start:end]\n",
    "    \n",
    "    # create a variable named entity\n",
    "    # to hold the lowercase lemma of the span\n",
    "    entity = span.lemma_.lower()\n",
    "\n",
    "    # create a variable named sent\n",
    "    # to hold the sentence in which the entity was found\n",
    "    sent = span.sent\n",
    "    \n",
    "    # increase the count (+1) to the entitiy in the ent_count defaultdict\n",
    "    ent_count[entity] += 1\n",
    "    \n",
    "    # add the sentence to the entity in the ent_sents defaultdict\n",
    "    ent_sents[entity].append(sent)"
   ]
  },
  {
   "cell_type": "code",
   "execution_count": 37,
   "metadata": {},
   "outputs": [],
   "source": [
    "# create the ent_sents defaultdict\n",
    "# think about what datatype to use to store sentences\n",
    "ent_sents  = defaultdict(list)\n",
    "\n",
    "# create the ent_count defaultdict\n",
    "# think about what datatype to use to store a count\n",
    "ent_count = defaultdict(int)\n",
    "\n",
    "# add a pattern that captures a lowercase word 'costs'\n",
    "# and is preceeded by one or more nouns\n",
    "pattern = [{'POS': 'NOUN', 'OP': '+'},{'LOWER': 'costs'}]\n",
    "\n",
    "# reset the Matcher with nlp.vocab to clear out any previous patterns\n",
    "matcher = Matcher(nlp.vocab)\n",
    "\n",
    "# add the pattern to the matcher, named it 'airline_costs'\n",
    "matcher.add('airline_costs', collect_sents, pattern) \n",
    "\n",
    "# execute the matcher on the doc\n",
    "# store the result in a variable named matches\n",
    "matches = matcher(doc)"
   ]
  },
  {
   "cell_type": "code",
   "execution_count": 39,
   "metadata": {},
   "outputs": [
    {
     "data": {
      "text/plain": [
       "defaultdict(int,\n",
       "            {'advertising cost': 2,\n",
       "             'agency commission cost': 1,\n",
       "             'airframe overhaul cost': 3,\n",
       "             'commission cost': 1,\n",
       "             'compensation cost': 2,\n",
       "             'development cost': 1,\n",
       "             'distribution cost': 6,\n",
       "             'maintenance cost': 2,\n",
       "             'operating cost': 5,\n",
       "             'overhaul cost': 3,\n",
       "             'production cost': 1,\n",
       "             'severance cost': 3,\n",
       "             'system development cost': 1,\n",
       "             'time cost': 1,\n",
       "             'unit cost': 1})"
      ]
     },
     "execution_count": 39,
     "metadata": {},
     "output_type": "execute_result"
    }
   ],
   "source": [
    "# review the results of the ent_count\n",
    "ent_count"
   ]
  },
  {
   "cell_type": "code",
   "execution_count": 40,
   "metadata": {},
   "outputs": [
    {
     "data": {
      "text/plain": [
       "defaultdict(list,\n",
       "            {'advertising cost': [Despite heavy advertising costs to support seven new cities and these campaigns, our overall cost per available seat mile actually declined in 1994 as our People posted record earnings.,\n",
       "              The overall decrease is primarily attributable to operating efficiencies resulting from the transition of Morris operational functions to Southwest, primarily contract services which decreased $8.8 million (24.4 percent per ASM), offset by an increase in advertising costs of $24.1 million (22.9 percent per ASM) primarily associated with the start-up of seven new cities and new competitive pressures in 1994.],\n",
       "             'agency commission cost': [The primary factors contributing to this decrease were an 8.8 percent decrease in average jet fuel cost per gallon and lower agency commission costs, offset by increased aircraft rentals.],\n",
       "             'airframe overhaul cost': [Scheduled airframe overhaul costs are capitalized at amounts not to exceed the fair market value of the related aircraft and amortized over the estimated periods benefited, presently 8 years.,\n",
       "              SCHEDULED AIRFRAME Overhauls Prior to January 1, 1992, the Company expensed scheduled airframe overhaul costs as incurred.,\n",
       "              Had the direct expense method been used to provide for scheduled airframe overhaul costs during the year ended December 31, 1992, income before cumulative effect of accounting change would have been reduced by approximately $9,800,000 (net of provision for income taxes and profitsharing of approximately $8,800,000), or approximately $.07 per  share.],\n",
       "             'commission cost': [The primary factors contributing to this decrease were an 8.8 percent decrease in average jet fuel cost per gallon and lower agency commission costs, offset by increased aircraft rentals.],\n",
       "             'compensation cost': [The majority of the increase in average salary and benefits cost related to increased health benefits and workers' compensation costs.,\n",
       "              This increase resulted from a 2.2 percent increase in salaries and wages, offset by a 5.0 percent decrease in health benefit and workers' compensation costs per ASM.],\n",
       "             'development cost': [Net nonoperating losses in 1993 resulted from the write-down of certain internal system development costs and the settlement of certain employment- related litigation for $1.7 million.],\n",
       "             'distribution cost': [Introduced three-day Ticket By Mail for direct consumers; Defined the functionality and negotiated a contract with American Airlines for entry into Basic SABRE, which, on May 1, 1995, will afford automated access to our Reservations System for 60 percent of our travel agency sales, and, we are convinced, produce lesser overall distribution costs for Southwest; while also providing our first direct, computerized access to the consumer through Easy SABRE and Commercial SABRE; Negotiated a contract with the State of Arkansas and City of Little Rock and designed and built our 900-Agent Little Rock Reservations Center; Negotiated and signed a collective bargaining agreement with the IAM covering 5,000 Reservation Sales and Customer Service Agents; Negotiated a landmark Pilot contract with the Southwest Airlines Pilots’ Association (SWAPA), fundamentally offering stock options in lieu of pay increases; Sustained a year-long collision with Continental Lite, indirectly in Texas and directly on the Midway Airport-Cleveland-Baltimore axis of our system; Met the United Shuttle assault head-on in California on October 1,  1994; Won our third annual Triple Crown for best baggage handling; best ontime performance; and fewest Customer complaints per Customer carried; Placed first in the Airline Quality Rating statistics; and Operated 624,476 flights, carrying 42,742,602 Customers in perfect safety.,\n",
       "              Our distribution costs are also lower than most of our competitors because of our dominant market presence; our simple and reliably low fare structure; and the ease of dealing with us directly.,\n",
       "              In 1994, we took steps to lower our distribution costs further, by enhancing our Ticket By Mail product and  introducing Ticketless travel.,\n",
       "              Distribution costs will continue to be a primary focus as we roll out Ticketless systemwide on January 31, 1995; implement SABRE’s new  Basic Booking Request level on May 1, 1995; explore other automated booking opportunities; and embark on a new internal reservations system development effort scheduled for completion no later than 1997.,\n",
       "              Significant cost reduction opportunitieslie in distribution costs.,\n",
       "              Ticketless travel, the new SABRE Basic Booking Request, our enhanced Ticket By Mail product, and expanded reservations operations should all combine to help reduce distribution costs.],\n",
       "             'maintenance cost': [The primary factors contributing to the increase were the 28.8 percent increase in ASMs; increased contributions to profitsharing and Employee savings plans; higher agency commissions; higher aircraft rentals; and increased maintenance costs.,\n",
       "              The cost of engine overhauls and routine maintenance costs for aircraft and engine maintenance are charged to maintenance expense as incurred.],\n",
       "             'operating cost': [Our operating costs per available seat mile were 2.3 percent lower in 1994 than 1993, a distinct accomplishment considering the heavy expansion cost we incurred in 1994 to develop new markets.,\n",
       "              Our focus on low operating costs will continue to be intense in 1995.,\n",
       "              Despite the increased cost of owning newer aircraft, we still have the lowest overall operating costs because of our high productivity.,\n",
       "              In 1994, only 0.86 percent of our flights were canceled or delayed due to mechanical incidents, which also contributes to lower operating costs.,\n",
       "              In response to actions taken by our competitor-owned reservations systems, we reduced our operating costs and enhanced our ticket delivery systems by developing our own Southwest Airlines Air Travel  (“SWAT”) system allowing high-volume travel agents direct access to reservations; introduced overnight ticket delivery for travel agents; reduced to three the number of advance days reservations required for overnight delivery of tickets to customers (Ticket By Mail); developed our own Ticketless system, which was rolled out system-wide on January 31, 1995; and subscribed to a new level of service with SABRE  that will automate the booking process for SABRE travel agencies effective May 1, 1995.],\n",
       "             'overhaul cost': [Scheduled airframe overhaul costs are capitalized at amounts not to exceed the fair market value of the related aircraft and amortized over the estimated periods benefited, presently 8 years.,\n",
       "              SCHEDULED AIRFRAME Overhauls Prior to January 1, 1992, the Company expensed scheduled airframe overhaul costs as incurred.,\n",
       "              Had the direct expense method been used to provide for scheduled airframe overhaul costs during the year ended December 31, 1992, income before cumulative effect of accounting change would have been reduced by approximately $9,800,000 (net of provision for income taxes and profitsharing of approximately $8,800,000), or approximately $.07 per  share.],\n",
       "             'production cost': [The Company expenses the production costs of advertising as incurred.],\n",
       "             'severance cost': [These expenses included $1.9 million of various professional fees; $4.7 million for disposal of duplicate or incompatible property and equipment; and $4.2 million for Employee relocation and severance costs related to elimination of duplicate or incompatible operations.,\n",
       "              Included in these one-time costs resulting from the merger were $1,900,000 of various professional fees; $4,703,000 for disposal of duplicate or incompatible property and equipment; and $4,200,000 for Employee relocation and severance costs related to elimination of duplicate or incompatible operations.,\n",
       "              During 1994, the integration of Morris into Southwest was substantially completed, including the disposal of incompatible property and equipment and settlement of Employee relocation and severance costs.],\n",
       "             'system development cost': [Net nonoperating losses in 1993 resulted from the write-down of certain internal system development costs and the settlement of certain employment- related litigation for $1.7 million.],\n",
       "             'time cost': [Included in these one-time costs resulting from the merger were $1,900,000 of various professional fees; $4,703,000 for disposal of duplicate or incompatible property and equipment; and $4,200,000 for Employee relocation and severance costs related to elimination of duplicate or incompatible operations.],\n",
       "             'unit cost': [Further, we are hopeful that these and other initiatives will lead to lower unit costs per ASM in 1995 versus 1994.]})"
      ]
     },
     "execution_count": 40,
     "metadata": {},
     "output_type": "execute_result"
    }
   ],
   "source": [
    "# review the results of the ent_sents\n",
    "ent_sents"
   ]
  }
 ],
 "metadata": {
  "kernelspec": {
   "display_name": "Python 3",
   "language": "python",
   "name": "python3"
  },
  "language_info": {
   "codemirror_mode": {
    "name": "ipython",
    "version": 3
   },
   "file_extension": ".py",
   "mimetype": "text/x-python",
   "name": "python",
   "nbconvert_exporter": "python",
   "pygments_lexer": "ipython3",
   "version": "3.5.4"
  }
 },
 "nbformat": 4,
 "nbformat_minor": 2
}
